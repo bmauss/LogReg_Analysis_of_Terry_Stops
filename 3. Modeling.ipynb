{
 "cells": [
  {
   "cell_type": "markdown",
   "metadata": {},
   "source": [
    "# Modeling"
   ]
  },
  {
   "cell_type": "markdown",
   "metadata": {},
   "source": [
    "## Objectives:\n",
    "* Create a model that will predict the likelihood that an arrest will occur during a Terry Stop\n",
    "* Determine which modeling method will bring about the best performance "
   ]
  },
  {
   "cell_type": "markdown",
   "metadata": {},
   "source": [
    "# Import Data"
   ]
  },
  {
   "cell_type": "code",
   "execution_count": 1,
   "metadata": {
    "ExecuteTime": {
     "end_time": "2020-08-21T18:27:29.400865Z",
     "start_time": "2020-08-21T18:27:27.788309Z"
    }
   },
   "outputs": [
    {
     "name": "stderr",
     "output_type": "stream",
     "text": [
      "C:\\Users\\User\\anaconda3\\envs\\learn-env\\lib\\site-packages\\sklearn\\externals\\six.py:31: DeprecationWarning: The module is deprecated in version 0.21 and will be removed in version 0.23 since we've dropped support for Python 2.7. Please rely on the official version of six (https://pypi.org/project/six/).\n",
      "  \"(https://pypi.org/project/six/).\", DeprecationWarning)\n"
     ]
    }
   ],
   "source": [
    "import pandas as pd\n",
    "import numpy as np\n",
    "import matplotlib.pyplot as plt\n",
    "from imblearn.over_sampling import SMOTE\n",
    "from sklearn.linear_model import LogisticRegression, LogisticRegressionCV\n",
    "from sklearn.model_selection import train_test_split, GridSearchCV\n",
    "from sklearn.model_selection import cross_val_score\n",
    "from sklearn.preprocessing import StandardScaler\n",
    "from sklearn.metrics import precision_score, recall_score, accuracy_score\n",
    "from sklearn.tree import DecisionTreeClassifier\n",
    "from sklearn.ensemble import RandomForestClassifier, AdaBoostClassifier\n",
    "from sklearn.metrics import confusion_matrix, f1_score\n",
    "from sklearn.neighbors import KNeighborsClassifier\n",
    "from scipy.spatial.distance import euclidean\n",
    "import xgboost as xgb\n",
    "import seaborn as sns\n",
    "import warnings\n",
    "warnings.filterwarnings('ignore')\n",
    "%matplotlib inline"
   ]
  },
  {
   "cell_type": "markdown",
   "metadata": {},
   "source": [
    "Let's load the data and take a look at it."
   ]
  },
  {
   "cell_type": "code",
   "execution_count": 2,
   "metadata": {
    "ExecuteTime": {
     "end_time": "2020-08-21T18:27:29.574756Z",
     "start_time": "2020-08-21T18:27:29.402854Z"
    }
   },
   "outputs": [
    {
     "data": {
      "text/html": [
       "<div>\n",
       "<style scoped>\n",
       "    .dataframe tbody tr th:only-of-type {\n",
       "        vertical-align: middle;\n",
       "    }\n",
       "\n",
       "    .dataframe tbody tr th {\n",
       "        vertical-align: top;\n",
       "    }\n",
       "\n",
       "    .dataframe thead th {\n",
       "        text-align: right;\n",
       "    }\n",
       "</style>\n",
       "<table border=\"1\" class=\"dataframe\">\n",
       "  <thead>\n",
       "    <tr style=\"text-align: right;\">\n",
       "      <th></th>\n",
       "      <th>stop_resolution</th>\n",
       "      <th>weapon_type</th>\n",
       "      <th>officer_id</th>\n",
       "      <th>officer_race</th>\n",
       "      <th>subject_perceived_race</th>\n",
       "      <th>initial_call_type</th>\n",
       "      <th>final_call_type</th>\n",
       "      <th>call_type</th>\n",
       "      <th>precinct</th>\n",
       "      <th>sector</th>\n",
       "      <th>...</th>\n",
       "      <th>frisk_flag__Y</th>\n",
       "      <th>dif_race__Y</th>\n",
       "      <th>dif_gender__Y</th>\n",
       "      <th>repeat_offenders__Y</th>\n",
       "      <th>subject_age_group__1_17</th>\n",
       "      <th>subject_age_group__26_35</th>\n",
       "      <th>subject_age_group__36_45</th>\n",
       "      <th>subject_age_group__46_55</th>\n",
       "      <th>subject_age_group__56_up</th>\n",
       "      <th>subject_age_group__Unknown</th>\n",
       "    </tr>\n",
       "  </thead>\n",
       "  <tbody>\n",
       "    <tr>\n",
       "      <td>count</td>\n",
       "      <td>30364.000000</td>\n",
       "      <td>30364.000000</td>\n",
       "      <td>30364.000000</td>\n",
       "      <td>30364.000000</td>\n",
       "      <td>30364.000000</td>\n",
       "      <td>30364.000000</td>\n",
       "      <td>30364.000000</td>\n",
       "      <td>30364.000000</td>\n",
       "      <td>30364.000000</td>\n",
       "      <td>30364.000000</td>\n",
       "      <td>...</td>\n",
       "      <td>30364.000000</td>\n",
       "      <td>30364.000000</td>\n",
       "      <td>30364.000000</td>\n",
       "      <td>30364.000000</td>\n",
       "      <td>30364.000000</td>\n",
       "      <td>30364.000000</td>\n",
       "      <td>30364.000000</td>\n",
       "      <td>30364.000000</td>\n",
       "      <td>30364.000000</td>\n",
       "      <td>30364.000000</td>\n",
       "    </tr>\n",
       "    <tr>\n",
       "      <td>mean</td>\n",
       "      <td>2.174219</td>\n",
       "      <td>3.451060</td>\n",
       "      <td>633.057502</td>\n",
       "      <td>5.885094</td>\n",
       "      <td>4.400211</td>\n",
       "      <td>94.143426</td>\n",
       "      <td>69.522691</td>\n",
       "      <td>0.839679</td>\n",
       "      <td>2.817646</td>\n",
       "      <td>16.561586</td>\n",
       "      <td>...</td>\n",
       "      <td>0.258629</td>\n",
       "      <td>0.610789</td>\n",
       "      <td>0.278389</td>\n",
       "      <td>0.280760</td>\n",
       "      <td>0.048511</td>\n",
       "      <td>0.334409</td>\n",
       "      <td>0.209492</td>\n",
       "      <td>0.126235</td>\n",
       "      <td>0.049499</td>\n",
       "      <td>0.028619</td>\n",
       "    </tr>\n",
       "    <tr>\n",
       "      <td>std</td>\n",
       "      <td>1.002457</td>\n",
       "      <td>1.001798</td>\n",
       "      <td>256.704876</td>\n",
       "      <td>2.173229</td>\n",
       "      <td>2.772320</td>\n",
       "      <td>50.121144</td>\n",
       "      <td>35.351272</td>\n",
       "      <td>1.123204</td>\n",
       "      <td>2.353513</td>\n",
       "      <td>9.586147</td>\n",
       "      <td>...</td>\n",
       "      <td>0.437888</td>\n",
       "      <td>0.487579</td>\n",
       "      <td>0.448213</td>\n",
       "      <td>0.449378</td>\n",
       "      <td>0.214848</td>\n",
       "      <td>0.471791</td>\n",
       "      <td>0.406952</td>\n",
       "      <td>0.332120</td>\n",
       "      <td>0.216912</td>\n",
       "      <td>0.166737</td>\n",
       "    </tr>\n",
       "    <tr>\n",
       "      <td>min</td>\n",
       "      <td>0.000000</td>\n",
       "      <td>0.000000</td>\n",
       "      <td>0.000000</td>\n",
       "      <td>0.000000</td>\n",
       "      <td>0.000000</td>\n",
       "      <td>0.000000</td>\n",
       "      <td>0.000000</td>\n",
       "      <td>0.000000</td>\n",
       "      <td>0.000000</td>\n",
       "      <td>0.000000</td>\n",
       "      <td>...</td>\n",
       "      <td>0.000000</td>\n",
       "      <td>0.000000</td>\n",
       "      <td>0.000000</td>\n",
       "      <td>0.000000</td>\n",
       "      <td>0.000000</td>\n",
       "      <td>0.000000</td>\n",
       "      <td>0.000000</td>\n",
       "      <td>0.000000</td>\n",
       "      <td>0.000000</td>\n",
       "      <td>0.000000</td>\n",
       "    </tr>\n",
       "    <tr>\n",
       "      <td>25%</td>\n",
       "      <td>1.000000</td>\n",
       "      <td>3.000000</td>\n",
       "      <td>472.000000</td>\n",
       "      <td>7.000000</td>\n",
       "      <td>1.000000</td>\n",
       "      <td>48.000000</td>\n",
       "      <td>42.000000</td>\n",
       "      <td>0.000000</td>\n",
       "      <td>1.000000</td>\n",
       "      <td>7.000000</td>\n",
       "      <td>...</td>\n",
       "      <td>0.000000</td>\n",
       "      <td>0.000000</td>\n",
       "      <td>0.000000</td>\n",
       "      <td>0.000000</td>\n",
       "      <td>0.000000</td>\n",
       "      <td>0.000000</td>\n",
       "      <td>0.000000</td>\n",
       "      <td>0.000000</td>\n",
       "      <td>0.000000</td>\n",
       "      <td>0.000000</td>\n",
       "    </tr>\n",
       "    <tr>\n",
       "      <td>50%</td>\n",
       "      <td>2.000000</td>\n",
       "      <td>3.000000</td>\n",
       "      <td>647.000000</td>\n",
       "      <td>7.000000</td>\n",
       "      <td>5.000000</td>\n",
       "      <td>116.000000</td>\n",
       "      <td>83.000000</td>\n",
       "      <td>0.000000</td>\n",
       "      <td>2.000000</td>\n",
       "      <td>17.000000</td>\n",
       "      <td>...</td>\n",
       "      <td>0.000000</td>\n",
       "      <td>1.000000</td>\n",
       "      <td>0.000000</td>\n",
       "      <td>0.000000</td>\n",
       "      <td>0.000000</td>\n",
       "      <td>0.000000</td>\n",
       "      <td>0.000000</td>\n",
       "      <td>0.000000</td>\n",
       "      <td>0.000000</td>\n",
       "      <td>0.000000</td>\n",
       "    </tr>\n",
       "    <tr>\n",
       "      <td>75%</td>\n",
       "      <td>3.000000</td>\n",
       "      <td>5.000000</td>\n",
       "      <td>835.000000</td>\n",
       "      <td>7.000000</td>\n",
       "      <td>7.000000</td>\n",
       "      <td>136.000000</td>\n",
       "      <td>94.000000</td>\n",
       "      <td>2.000000</td>\n",
       "      <td>6.000000</td>\n",
       "      <td>24.000000</td>\n",
       "      <td>...</td>\n",
       "      <td>1.000000</td>\n",
       "      <td>1.000000</td>\n",
       "      <td>1.000000</td>\n",
       "      <td>1.000000</td>\n",
       "      <td>0.000000</td>\n",
       "      <td>1.000000</td>\n",
       "      <td>0.000000</td>\n",
       "      <td>0.000000</td>\n",
       "      <td>0.000000</td>\n",
       "      <td>0.000000</td>\n",
       "    </tr>\n",
       "    <tr>\n",
       "      <td>max</td>\n",
       "      <td>4.000000</td>\n",
       "      <td>5.000000</td>\n",
       "      <td>1094.000000</td>\n",
       "      <td>7.000000</td>\n",
       "      <td>7.000000</td>\n",
       "      <td>162.000000</td>\n",
       "      <td>198.000000</td>\n",
       "      <td>3.000000</td>\n",
       "      <td>6.000000</td>\n",
       "      <td>34.000000</td>\n",
       "      <td>...</td>\n",
       "      <td>1.000000</td>\n",
       "      <td>1.000000</td>\n",
       "      <td>1.000000</td>\n",
       "      <td>1.000000</td>\n",
       "      <td>1.000000</td>\n",
       "      <td>1.000000</td>\n",
       "      <td>1.000000</td>\n",
       "      <td>1.000000</td>\n",
       "      <td>1.000000</td>\n",
       "      <td>1.000000</td>\n",
       "    </tr>\n",
       "  </tbody>\n",
       "</table>\n",
       "<p>8 rows × 32 columns</p>\n",
       "</div>"
      ],
      "text/plain": [
       "       stop_resolution   weapon_type    officer_id  officer_race  \\\n",
       "count     30364.000000  30364.000000  30364.000000  30364.000000   \n",
       "mean          2.174219      3.451060    633.057502      5.885094   \n",
       "std           1.002457      1.001798    256.704876      2.173229   \n",
       "min           0.000000      0.000000      0.000000      0.000000   \n",
       "25%           1.000000      3.000000    472.000000      7.000000   \n",
       "50%           2.000000      3.000000    647.000000      7.000000   \n",
       "75%           3.000000      5.000000    835.000000      7.000000   \n",
       "max           4.000000      5.000000   1094.000000      7.000000   \n",
       "\n",
       "       subject_perceived_race  initial_call_type  final_call_type  \\\n",
       "count            30364.000000       30364.000000     30364.000000   \n",
       "mean                 4.400211          94.143426        69.522691   \n",
       "std                  2.772320          50.121144        35.351272   \n",
       "min                  0.000000           0.000000         0.000000   \n",
       "25%                  1.000000          48.000000        42.000000   \n",
       "50%                  5.000000         116.000000        83.000000   \n",
       "75%                  7.000000         136.000000        94.000000   \n",
       "max                  7.000000         162.000000       198.000000   \n",
       "\n",
       "          call_type      precinct        sector  ...  frisk_flag__Y  \\\n",
       "count  30364.000000  30364.000000  30364.000000  ...   30364.000000   \n",
       "mean       0.839679      2.817646     16.561586  ...       0.258629   \n",
       "std        1.123204      2.353513      9.586147  ...       0.437888   \n",
       "min        0.000000      0.000000      0.000000  ...       0.000000   \n",
       "25%        0.000000      1.000000      7.000000  ...       0.000000   \n",
       "50%        0.000000      2.000000     17.000000  ...       0.000000   \n",
       "75%        2.000000      6.000000     24.000000  ...       1.000000   \n",
       "max        3.000000      6.000000     34.000000  ...       1.000000   \n",
       "\n",
       "        dif_race__Y  dif_gender__Y  repeat_offenders__Y  \\\n",
       "count  30364.000000   30364.000000         30364.000000   \n",
       "mean       0.610789       0.278389             0.280760   \n",
       "std        0.487579       0.448213             0.449378   \n",
       "min        0.000000       0.000000             0.000000   \n",
       "25%        0.000000       0.000000             0.000000   \n",
       "50%        1.000000       0.000000             0.000000   \n",
       "75%        1.000000       1.000000             1.000000   \n",
       "max        1.000000       1.000000             1.000000   \n",
       "\n",
       "       subject_age_group__1_17  subject_age_group__26_35  \\\n",
       "count             30364.000000              30364.000000   \n",
       "mean                  0.048511                  0.334409   \n",
       "std                   0.214848                  0.471791   \n",
       "min                   0.000000                  0.000000   \n",
       "25%                   0.000000                  0.000000   \n",
       "50%                   0.000000                  0.000000   \n",
       "75%                   0.000000                  1.000000   \n",
       "max                   1.000000                  1.000000   \n",
       "\n",
       "       subject_age_group__36_45  subject_age_group__46_55  \\\n",
       "count              30364.000000              30364.000000   \n",
       "mean                   0.209492                  0.126235   \n",
       "std                    0.406952                  0.332120   \n",
       "min                    0.000000                  0.000000   \n",
       "25%                    0.000000                  0.000000   \n",
       "50%                    0.000000                  0.000000   \n",
       "75%                    0.000000                  0.000000   \n",
       "max                    1.000000                  1.000000   \n",
       "\n",
       "       subject_age_group__56_up  subject_age_group__Unknown  \n",
       "count              30364.000000                30364.000000  \n",
       "mean                   0.049499                    0.028619  \n",
       "std                    0.216912                    0.166737  \n",
       "min                    0.000000                    0.000000  \n",
       "25%                    0.000000                    0.000000  \n",
       "50%                    0.000000                    0.000000  \n",
       "75%                    0.000000                    0.000000  \n",
       "max                    1.000000                    1.000000  \n",
       "\n",
       "[8 rows x 32 columns]"
      ]
     },
     "execution_count": 2,
     "metadata": {},
     "output_type": "execute_result"
    }
   ],
   "source": [
    "df = pd.read_csv('CSV_Files/Terry_Stops_with_dummies.csv')\n",
    "df.drop('Unnamed: 0', axis=1, inplace=True)\n",
    "df.describe()"
   ]
  },
  {
   "cell_type": "code",
   "execution_count": 3,
   "metadata": {
    "ExecuteTime": {
     "end_time": "2020-08-21T18:27:29.588802Z",
     "start_time": "2020-08-21T18:27:29.575755Z"
    }
   },
   "outputs": [
    {
     "name": "stdout",
     "output_type": "stream",
     "text": [
      "<class 'pandas.core.frame.DataFrame'>\n",
      "RangeIndex: 30364 entries, 0 to 30363\n",
      "Data columns (total 32 columns):\n",
      "stop_resolution                                  30364 non-null int64\n",
      "weapon_type                                      30364 non-null int64\n",
      "officer_id                                       30364 non-null int64\n",
      "officer_race                                     30364 non-null int64\n",
      "subject_perceived_race                           30364 non-null int64\n",
      "initial_call_type                                30364 non-null int64\n",
      "final_call_type                                  30364 non-null int64\n",
      "call_type                                        30364 non-null int64\n",
      "precinct                                         30364 non-null int64\n",
      "sector                                           30364 non-null int64\n",
      "beat                                             30364 non-null int64\n",
      "incident_year                                    30364 non-null int64\n",
      "incident_month                                   30364 non-null int64\n",
      "officer_age                                      30364 non-null int64\n",
      "12am_6am                                         30364 non-null int64\n",
      "7am_12pm                                         30364 non-null int64\n",
      "1pm_6pm                                          30364 non-null int64\n",
      "7pm_11pm                                         30364 non-null int64\n",
      "officer_gender__M                                30364 non-null int64\n",
      "subject_perceived_gender__M                      30364 non-null int64\n",
      "subject_perceived_gender__Unable to Determine    30364 non-null int64\n",
      "arrest_flag__Y                                   30364 non-null int64\n",
      "frisk_flag__Y                                    30364 non-null int64\n",
      "dif_race__Y                                      30364 non-null int64\n",
      "dif_gender__Y                                    30364 non-null int64\n",
      "repeat_offenders__Y                              30364 non-null int64\n",
      "subject_age_group__1_17                          30364 non-null int64\n",
      "subject_age_group__26_35                         30364 non-null int64\n",
      "subject_age_group__36_45                         30364 non-null int64\n",
      "subject_age_group__46_55                         30364 non-null int64\n",
      "subject_age_group__56_up                         30364 non-null int64\n",
      "subject_age_group__Unknown                       30364 non-null int64\n",
      "dtypes: int64(32)\n",
      "memory usage: 7.4 MB\n"
     ]
    }
   ],
   "source": [
    "df.info()"
   ]
  },
  {
   "cell_type": "markdown",
   "metadata": {},
   "source": [
    "## Change to Floats\n",
    "Ok, first order of business is to turn all of these columns into floats so that we can get more accurate statistical results."
   ]
  },
  {
   "cell_type": "code",
   "execution_count": 4,
   "metadata": {
    "ExecuteTime": {
     "end_time": "2020-08-21T18:27:29.808346Z",
     "start_time": "2020-08-21T18:27:29.589802Z"
    }
   },
   "outputs": [],
   "source": [
    "for col in df.columns:\n",
    "    df[col] = df[col].astype('float')"
   ]
  },
  {
   "cell_type": "code",
   "execution_count": 5,
   "metadata": {
    "ExecuteTime": {
     "end_time": "2020-08-21T18:27:29.842282Z",
     "start_time": "2020-08-21T18:27:29.809315Z"
    }
   },
   "outputs": [
    {
     "name": "stdout",
     "output_type": "stream",
     "text": [
      "<class 'pandas.core.frame.DataFrame'>\n",
      "RangeIndex: 30364 entries, 0 to 30363\n",
      "Data columns (total 32 columns):\n",
      "stop_resolution                                  30364 non-null float64\n",
      "weapon_type                                      30364 non-null float64\n",
      "officer_id                                       30364 non-null float64\n",
      "officer_race                                     30364 non-null float64\n",
      "subject_perceived_race                           30364 non-null float64\n",
      "initial_call_type                                30364 non-null float64\n",
      "final_call_type                                  30364 non-null float64\n",
      "call_type                                        30364 non-null float64\n",
      "precinct                                         30364 non-null float64\n",
      "sector                                           30364 non-null float64\n",
      "beat                                             30364 non-null float64\n",
      "incident_year                                    30364 non-null float64\n",
      "incident_month                                   30364 non-null float64\n",
      "officer_age                                      30364 non-null float64\n",
      "12am_6am                                         30364 non-null float64\n",
      "7am_12pm                                         30364 non-null float64\n",
      "1pm_6pm                                          30364 non-null float64\n",
      "7pm_11pm                                         30364 non-null float64\n",
      "officer_gender__M                                30364 non-null float64\n",
      "subject_perceived_gender__M                      30364 non-null float64\n",
      "subject_perceived_gender__Unable to Determine    30364 non-null float64\n",
      "arrest_flag__Y                                   30364 non-null float64\n",
      "frisk_flag__Y                                    30364 non-null float64\n",
      "dif_race__Y                                      30364 non-null float64\n",
      "dif_gender__Y                                    30364 non-null float64\n",
      "repeat_offenders__Y                              30364 non-null float64\n",
      "subject_age_group__1_17                          30364 non-null float64\n",
      "subject_age_group__26_35                         30364 non-null float64\n",
      "subject_age_group__36_45                         30364 non-null float64\n",
      "subject_age_group__46_55                         30364 non-null float64\n",
      "subject_age_group__56_up                         30364 non-null float64\n",
      "subject_age_group__Unknown                       30364 non-null float64\n",
      "dtypes: float64(32)\n",
      "memory usage: 7.4 MB\n"
     ]
    }
   ],
   "source": [
    "df.info()"
   ]
  },
  {
   "cell_type": "markdown",
   "metadata": {},
   "source": [
    "Nice! Time to split up our data into targets and variables."
   ]
  },
  {
   "cell_type": "code",
   "execution_count": 6,
   "metadata": {
    "ExecuteTime": {
     "end_time": "2020-08-21T18:27:29.960731Z",
     "start_time": "2020-08-21T18:27:29.844295Z"
    }
   },
   "outputs": [],
   "source": [
    "y = df['arrest_flag__Y']\n",
    "X = df.drop('arrest_flag__Y', axis=1)"
   ]
  },
  {
   "cell_type": "code",
   "execution_count": 7,
   "metadata": {
    "ExecuteTime": {
     "end_time": "2020-08-21T18:27:30.129239Z",
     "start_time": "2020-08-21T18:27:29.961759Z"
    }
   },
   "outputs": [],
   "source": [
    "# Train-Test Split\n",
    "X_train, X_test, y_train, y_test = train_test_split(X, y, test_size=0.3, \n",
    "                                                    random_state=42)"
   ]
  },
  {
   "cell_type": "markdown",
   "metadata": {},
   "source": [
    "Next, we'll normalize the data so that the label encoded data isn't weighted as more important."
   ]
  },
  {
   "cell_type": "code",
   "execution_count": 8,
   "metadata": {
    "ExecuteTime": {
     "end_time": "2020-08-21T18:27:30.335688Z",
     "start_time": "2020-08-21T18:27:30.131209Z"
    }
   },
   "outputs": [],
   "source": [
    "scaler = StandardScaler()\n",
    "\n",
    "X_train_scaled = scaler.fit_transform(X_train)\n",
    "X_test_scaled = scaler.transform(X_test)"
   ]
  },
  {
   "cell_type": "markdown",
   "metadata": {},
   "source": [
    "With that out of the way, lets start modeling!"
   ]
  },
  {
   "cell_type": "markdown",
   "metadata": {},
   "source": [
    "# Logistic Regression\n",
    "We'll start with a basic Logistic Regression"
   ]
  },
  {
   "cell_type": "code",
   "execution_count": 9,
   "metadata": {
    "ExecuteTime": {
     "end_time": "2020-08-21T18:27:30.568585Z",
     "start_time": "2020-08-21T18:27:30.337686Z"
    }
   },
   "outputs": [
    {
     "data": {
      "text/plain": [
       "LogisticRegression(C=1e+16, class_weight=None, dual=False, fit_intercept=False,\n",
       "                   intercept_scaling=1, l1_ratio=None, max_iter=100,\n",
       "                   multi_class='warn', n_jobs=None, penalty='l2',\n",
       "                   random_state=None, solver='warn', tol=0.0001, verbose=0,\n",
       "                   warm_start=False)"
      ]
     },
     "execution_count": 9,
     "metadata": {},
     "output_type": "execute_result"
    }
   ],
   "source": [
    "logreg = LogisticRegression(fit_intercept=False, C=1e16)\n",
    "\n",
    "# Fitting the model\n",
    "\n",
    "logreg.fit(X_train_scaled, y_train)"
   ]
  },
  {
   "cell_type": "markdown",
   "metadata": {},
   "source": [
    "## Predictions\n",
    "We'll make a function that will evaluate the predictions."
   ]
  },
  {
   "cell_type": "code",
   "execution_count": 10,
   "metadata": {
    "ExecuteTime": {
     "end_time": "2020-08-21T18:27:30.575583Z",
     "start_time": "2020-08-21T18:27:30.570584Z"
    }
   },
   "outputs": [],
   "source": [
    "def logistic_predictions(X_train, X_test, y_train, y_test):\n",
    "    \"\"\"\n",
    "    Input: Training and test sets of predictors \n",
    "    Output: The accuracy_score of each respective set. Percent correct(labeled \n",
    "    0.0) and percent incorrect(labeled as 1.0). \n",
    "    \"\"\"\n",
    "    \n",
    "    y_hat_train = logreg.predict(X_train)\n",
    "    y_hat_test = logreg.predict(X_test)\n",
    "    \n",
    "    train_residuals = np.abs(y_train - y_hat_train)\n",
    "    print('------------------------------------')\n",
    "    print('Training Accuracy',\n",
    "          pd.Series(train_residuals).value_counts(normalize=True))\n",
    "    \n",
    "    test_residuals = np.abs(y_test - y_hat_test)\n",
    "    print('------------------------------------')\n",
    "    print('Testing Accuracy: ',\n",
    "          pd.Series(test_residuals).value_counts(normalize=True))"
   ]
  },
  {
   "cell_type": "code",
   "execution_count": 11,
   "metadata": {
    "ExecuteTime": {
     "end_time": "2020-08-21T18:27:30.736773Z",
     "start_time": "2020-08-21T18:27:30.576580Z"
    }
   },
   "outputs": [
    {
     "name": "stdout",
     "output_type": "stream",
     "text": [
      "------------------------------------\n",
      "Training Accuracy 0.0    0.659641\n",
      "1.0    0.340359\n",
      "Name: arrest_flag__Y, dtype: float64\n",
      "------------------------------------\n",
      "Testing Accuracy:  0.0    0.649506\n",
      "1.0    0.350494\n",
      "Name: arrest_flag__Y, dtype: float64\n"
     ]
    }
   ],
   "source": [
    "logistic_predictions(X_train_scaled, X_test_scaled, y_train, y_test)"
   ]
  },
  {
   "cell_type": "markdown",
   "metadata": {},
   "source": [
    "### Interpretation\n",
    "Results show that both the Training and Test sets are a little bit better than a coin flip, which is nothing to get excited over.  On the bright side, however, the accuracy between the two models is consistent (65-66%) so the model is not overfit or underfit, which is great!"
   ]
  },
  {
   "cell_type": "markdown",
   "metadata": {},
   "source": [
    "## Confusion Matrix\n",
    "We'll plot a Confusion Matrix to see the results"
   ]
  },
  {
   "cell_type": "code",
   "execution_count": 12,
   "metadata": {
    "ExecuteTime": {
     "end_time": "2020-08-21T18:27:30.980636Z",
     "start_time": "2020-08-21T18:27:30.738772Z"
    }
   },
   "outputs": [
    {
     "ename": "ImportError",
     "evalue": "cannot import name 'plot_confusion_matrix'",
     "output_type": "error",
     "traceback": [
      "\u001b[1;31m---------------------------------------------------------------------------\u001b[0m",
      "\u001b[1;31mImportError\u001b[0m                               Traceback (most recent call last)",
      "\u001b[1;32m<ipython-input-12-d665665ab444>\u001b[0m in \u001b[0;36m<module>\u001b[1;34m\u001b[0m\n\u001b[1;32m----> 1\u001b[1;33m \u001b[1;32mfrom\u001b[0m \u001b[0msklearn\u001b[0m\u001b[1;33m.\u001b[0m\u001b[0mmetrics\u001b[0m \u001b[1;32mimport\u001b[0m \u001b[0mplot_confusion_matrix\u001b[0m\u001b[1;33m\u001b[0m\u001b[1;33m\u001b[0m\u001b[0m\n\u001b[0m\u001b[0;32m      2\u001b[0m \u001b[1;33m\u001b[0m\u001b[0m\n\u001b[0;32m      3\u001b[0m \u001b[0mplot_confusion_matrix\u001b[0m\u001b[1;33m(\u001b[0m\u001b[0mlogreg\u001b[0m\u001b[1;33m,\u001b[0m \u001b[0mX_test_scaled\u001b[0m\u001b[1;33m,\u001b[0m \u001b[0my_test\u001b[0m\u001b[1;33m,\u001b[0m \u001b[0mcmap\u001b[0m\u001b[1;33m=\u001b[0m\u001b[0mplt\u001b[0m\u001b[1;33m.\u001b[0m\u001b[0mcm\u001b[0m\u001b[1;33m.\u001b[0m\u001b[0mBlues\u001b[0m\u001b[1;33m)\u001b[0m\u001b[1;33m\u001b[0m\u001b[1;33m\u001b[0m\u001b[0m\n\u001b[0;32m      4\u001b[0m \u001b[1;33m\u001b[0m\u001b[0m\n\u001b[0;32m      5\u001b[0m \u001b[0mplt\u001b[0m\u001b[1;33m.\u001b[0m\u001b[0mshow\u001b[0m\u001b[1;33m(\u001b[0m\u001b[1;33m)\u001b[0m\u001b[1;33m\u001b[0m\u001b[1;33m\u001b[0m\u001b[0m\n",
      "\u001b[1;31mImportError\u001b[0m: cannot import name 'plot_confusion_matrix'"
     ]
    }
   ],
   "source": [
    "from sklearn.metrics import plot_confusion_matrix\n",
    "\n",
    "plot_confusion_matrix(logreg, X_test_scaled, y_test, cmap=plt.cm.Blues)\n",
    "\n",
    "plt.show()"
   ]
  },
  {
   "cell_type": "code",
   "execution_count": null,
   "metadata": {},
   "outputs": [],
   "source": []
  }
 ],
 "metadata": {
  "kernelspec": {
   "display_name": "Python 3",
   "language": "python",
   "name": "python3"
  },
  "language_info": {
   "codemirror_mode": {
    "name": "ipython",
    "version": 3
   },
   "file_extension": ".py",
   "mimetype": "text/x-python",
   "name": "python",
   "nbconvert_exporter": "python",
   "pygments_lexer": "ipython3",
   "version": "3.6.9"
  },
  "toc": {
   "base_numbering": 1,
   "nav_menu": {},
   "number_sections": true,
   "sideBar": true,
   "skip_h1_title": false,
   "title_cell": "Table of Contents",
   "title_sidebar": "Contents",
   "toc_cell": false,
   "toc_position": {},
   "toc_section_display": true,
   "toc_window_display": false
  },
  "varInspector": {
   "cols": {
    "lenName": 16,
    "lenType": 16,
    "lenVar": 40
   },
   "kernels_config": {
    "python": {
     "delete_cmd_postfix": "",
     "delete_cmd_prefix": "del ",
     "library": "var_list.py",
     "varRefreshCmd": "print(var_dic_list())"
    },
    "r": {
     "delete_cmd_postfix": ") ",
     "delete_cmd_prefix": "rm(",
     "library": "var_list.r",
     "varRefreshCmd": "cat(var_dic_list()) "
    }
   },
   "types_to_exclude": [
    "module",
    "function",
    "builtin_function_or_method",
    "instance",
    "_Feature"
   ],
   "window_display": false
  }
 },
 "nbformat": 4,
 "nbformat_minor": 2
}
