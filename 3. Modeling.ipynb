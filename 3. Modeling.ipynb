{
 "cells": [
  {
   "cell_type": "markdown",
   "metadata": {},
   "source": [
    "# Modeling"
   ]
  },
  {
   "cell_type": "markdown",
   "metadata": {},
   "source": [
    "## Objectives:\n",
    "* Create a model that will predict the likelihood that an arrest will occur during a Terry Stop\n",
    "* Determine which modeling method will bring about the best performance "
   ]
  },
  {
   "cell_type": "markdown",
   "metadata": {},
   "source": [
    "# Import Data"
   ]
  },
  {
   "cell_type": "code",
   "execution_count": 1,
   "metadata": {
    "ExecuteTime": {
     "end_time": "2020-08-21T18:46:12.186943Z",
     "start_time": "2020-08-21T18:46:10.948654Z"
    }
   },
   "outputs": [
    {
     "name": "stderr",
     "output_type": "stream",
     "text": [
      "C:\\Users\\User\\anaconda3\\envs\\learn-env\\lib\\site-packages\\sklearn\\utils\\deprecation.py:143: FutureWarning: The sklearn.neighbors.base module is  deprecated in version 0.22 and will be removed in version 0.24. The corresponding classes / functions should instead be imported from sklearn.neighbors. Anything that cannot be imported from sklearn.neighbors is now part of the private API.\n",
      "  warnings.warn(message, FutureWarning)\n"
     ]
    }
   ],
   "source": [
    "import six\n",
    "import sys\n",
    "sys.modules['sklearn.externals.six'] = six\n",
    "import pandas as pd\n",
    "import numpy as np\n",
    "import matplotlib.pyplot as plt\n",
    "from imblearn.over_sampling import SMOTE\n",
    "from sklearn.linear_model import LogisticRegression, LogisticRegressionCV\n",
    "from sklearn.model_selection import train_test_split, GridSearchCV\n",
    "from sklearn.model_selection import cross_val_score\n",
    "from sklearn.preprocessing import StandardScaler\n",
    "from sklearn.metrics import precision_score, recall_score, accuracy_score\n",
    "from sklearn.tree import DecisionTreeClassifier\n",
    "from sklearn.ensemble import RandomForestClassifier, AdaBoostClassifier\n",
    "from sklearn.metrics import confusion_matrix, f1_score\n",
    "from sklearn.neighbors import KNeighborsClassifier\n",
    "from scipy.spatial.distance import euclidean\n",
    "import xgboost as xgb\n",
    "import seaborn as sns\n",
    "import warnings\n",
    "warnings.filterwarnings('ignore')\n",
    "%matplotlib inline"
   ]
  },
  {
   "cell_type": "markdown",
   "metadata": {},
   "source": [
    "Let's load the data and take a look at it."
   ]
  },
  {
   "cell_type": "code",
   "execution_count": 2,
   "metadata": {
    "ExecuteTime": {
     "end_time": "2020-08-21T18:46:12.366854Z",
     "start_time": "2020-08-21T18:46:12.188942Z"
    }
   },
   "outputs": [
    {
     "data": {
      "text/html": [
       "<div>\n",
       "<style scoped>\n",
       "    .dataframe tbody tr th:only-of-type {\n",
       "        vertical-align: middle;\n",
       "    }\n",
       "\n",
       "    .dataframe tbody tr th {\n",
       "        vertical-align: top;\n",
       "    }\n",
       "\n",
       "    .dataframe thead th {\n",
       "        text-align: right;\n",
       "    }\n",
       "</style>\n",
       "<table border=\"1\" class=\"dataframe\">\n",
       "  <thead>\n",
       "    <tr style=\"text-align: right;\">\n",
       "      <th></th>\n",
       "      <th>stop_resolution</th>\n",
       "      <th>weapon_type</th>\n",
       "      <th>officer_id</th>\n",
       "      <th>officer_race</th>\n",
       "      <th>subject_perceived_race</th>\n",
       "      <th>initial_call_type</th>\n",
       "      <th>final_call_type</th>\n",
       "      <th>call_type</th>\n",
       "      <th>precinct</th>\n",
       "      <th>sector</th>\n",
       "      <th>...</th>\n",
       "      <th>frisk_flag__Y</th>\n",
       "      <th>dif_race__Y</th>\n",
       "      <th>dif_gender__Y</th>\n",
       "      <th>repeat_offenders__Y</th>\n",
       "      <th>subject_age_group__1_17</th>\n",
       "      <th>subject_age_group__26_35</th>\n",
       "      <th>subject_age_group__36_45</th>\n",
       "      <th>subject_age_group__46_55</th>\n",
       "      <th>subject_age_group__56_up</th>\n",
       "      <th>subject_age_group__Unknown</th>\n",
       "    </tr>\n",
       "  </thead>\n",
       "  <tbody>\n",
       "    <tr>\n",
       "      <td>count</td>\n",
       "      <td>30364.000000</td>\n",
       "      <td>30364.000000</td>\n",
       "      <td>30364.000000</td>\n",
       "      <td>30364.000000</td>\n",
       "      <td>30364.000000</td>\n",
       "      <td>30364.000000</td>\n",
       "      <td>30364.000000</td>\n",
       "      <td>30364.000000</td>\n",
       "      <td>30364.000000</td>\n",
       "      <td>30364.000000</td>\n",
       "      <td>...</td>\n",
       "      <td>30364.000000</td>\n",
       "      <td>30364.000000</td>\n",
       "      <td>30364.000000</td>\n",
       "      <td>30364.000000</td>\n",
       "      <td>30364.000000</td>\n",
       "      <td>30364.000000</td>\n",
       "      <td>30364.000000</td>\n",
       "      <td>30364.000000</td>\n",
       "      <td>30364.000000</td>\n",
       "      <td>30364.000000</td>\n",
       "    </tr>\n",
       "    <tr>\n",
       "      <td>mean</td>\n",
       "      <td>2.174219</td>\n",
       "      <td>3.451060</td>\n",
       "      <td>633.057502</td>\n",
       "      <td>5.885094</td>\n",
       "      <td>4.400211</td>\n",
       "      <td>94.143426</td>\n",
       "      <td>69.522691</td>\n",
       "      <td>0.839679</td>\n",
       "      <td>2.817646</td>\n",
       "      <td>16.561586</td>\n",
       "      <td>...</td>\n",
       "      <td>0.258629</td>\n",
       "      <td>0.610789</td>\n",
       "      <td>0.278389</td>\n",
       "      <td>0.280760</td>\n",
       "      <td>0.048511</td>\n",
       "      <td>0.334409</td>\n",
       "      <td>0.209492</td>\n",
       "      <td>0.126235</td>\n",
       "      <td>0.049499</td>\n",
       "      <td>0.028619</td>\n",
       "    </tr>\n",
       "    <tr>\n",
       "      <td>std</td>\n",
       "      <td>1.002457</td>\n",
       "      <td>1.001798</td>\n",
       "      <td>256.704876</td>\n",
       "      <td>2.173229</td>\n",
       "      <td>2.772320</td>\n",
       "      <td>50.121144</td>\n",
       "      <td>35.351272</td>\n",
       "      <td>1.123204</td>\n",
       "      <td>2.353513</td>\n",
       "      <td>9.586147</td>\n",
       "      <td>...</td>\n",
       "      <td>0.437888</td>\n",
       "      <td>0.487579</td>\n",
       "      <td>0.448213</td>\n",
       "      <td>0.449378</td>\n",
       "      <td>0.214848</td>\n",
       "      <td>0.471791</td>\n",
       "      <td>0.406952</td>\n",
       "      <td>0.332120</td>\n",
       "      <td>0.216912</td>\n",
       "      <td>0.166737</td>\n",
       "    </tr>\n",
       "    <tr>\n",
       "      <td>min</td>\n",
       "      <td>0.000000</td>\n",
       "      <td>0.000000</td>\n",
       "      <td>0.000000</td>\n",
       "      <td>0.000000</td>\n",
       "      <td>0.000000</td>\n",
       "      <td>0.000000</td>\n",
       "      <td>0.000000</td>\n",
       "      <td>0.000000</td>\n",
       "      <td>0.000000</td>\n",
       "      <td>0.000000</td>\n",
       "      <td>...</td>\n",
       "      <td>0.000000</td>\n",
       "      <td>0.000000</td>\n",
       "      <td>0.000000</td>\n",
       "      <td>0.000000</td>\n",
       "      <td>0.000000</td>\n",
       "      <td>0.000000</td>\n",
       "      <td>0.000000</td>\n",
       "      <td>0.000000</td>\n",
       "      <td>0.000000</td>\n",
       "      <td>0.000000</td>\n",
       "    </tr>\n",
       "    <tr>\n",
       "      <td>25%</td>\n",
       "      <td>1.000000</td>\n",
       "      <td>3.000000</td>\n",
       "      <td>472.000000</td>\n",
       "      <td>7.000000</td>\n",
       "      <td>1.000000</td>\n",
       "      <td>48.000000</td>\n",
       "      <td>42.000000</td>\n",
       "      <td>0.000000</td>\n",
       "      <td>1.000000</td>\n",
       "      <td>7.000000</td>\n",
       "      <td>...</td>\n",
       "      <td>0.000000</td>\n",
       "      <td>0.000000</td>\n",
       "      <td>0.000000</td>\n",
       "      <td>0.000000</td>\n",
       "      <td>0.000000</td>\n",
       "      <td>0.000000</td>\n",
       "      <td>0.000000</td>\n",
       "      <td>0.000000</td>\n",
       "      <td>0.000000</td>\n",
       "      <td>0.000000</td>\n",
       "    </tr>\n",
       "    <tr>\n",
       "      <td>50%</td>\n",
       "      <td>2.000000</td>\n",
       "      <td>3.000000</td>\n",
       "      <td>647.000000</td>\n",
       "      <td>7.000000</td>\n",
       "      <td>5.000000</td>\n",
       "      <td>116.000000</td>\n",
       "      <td>83.000000</td>\n",
       "      <td>0.000000</td>\n",
       "      <td>2.000000</td>\n",
       "      <td>17.000000</td>\n",
       "      <td>...</td>\n",
       "      <td>0.000000</td>\n",
       "      <td>1.000000</td>\n",
       "      <td>0.000000</td>\n",
       "      <td>0.000000</td>\n",
       "      <td>0.000000</td>\n",
       "      <td>0.000000</td>\n",
       "      <td>0.000000</td>\n",
       "      <td>0.000000</td>\n",
       "      <td>0.000000</td>\n",
       "      <td>0.000000</td>\n",
       "    </tr>\n",
       "    <tr>\n",
       "      <td>75%</td>\n",
       "      <td>3.000000</td>\n",
       "      <td>5.000000</td>\n",
       "      <td>835.000000</td>\n",
       "      <td>7.000000</td>\n",
       "      <td>7.000000</td>\n",
       "      <td>136.000000</td>\n",
       "      <td>94.000000</td>\n",
       "      <td>2.000000</td>\n",
       "      <td>6.000000</td>\n",
       "      <td>24.000000</td>\n",
       "      <td>...</td>\n",
       "      <td>1.000000</td>\n",
       "      <td>1.000000</td>\n",
       "      <td>1.000000</td>\n",
       "      <td>1.000000</td>\n",
       "      <td>0.000000</td>\n",
       "      <td>1.000000</td>\n",
       "      <td>0.000000</td>\n",
       "      <td>0.000000</td>\n",
       "      <td>0.000000</td>\n",
       "      <td>0.000000</td>\n",
       "    </tr>\n",
       "    <tr>\n",
       "      <td>max</td>\n",
       "      <td>4.000000</td>\n",
       "      <td>5.000000</td>\n",
       "      <td>1094.000000</td>\n",
       "      <td>7.000000</td>\n",
       "      <td>7.000000</td>\n",
       "      <td>162.000000</td>\n",
       "      <td>198.000000</td>\n",
       "      <td>3.000000</td>\n",
       "      <td>6.000000</td>\n",
       "      <td>34.000000</td>\n",
       "      <td>...</td>\n",
       "      <td>1.000000</td>\n",
       "      <td>1.000000</td>\n",
       "      <td>1.000000</td>\n",
       "      <td>1.000000</td>\n",
       "      <td>1.000000</td>\n",
       "      <td>1.000000</td>\n",
       "      <td>1.000000</td>\n",
       "      <td>1.000000</td>\n",
       "      <td>1.000000</td>\n",
       "      <td>1.000000</td>\n",
       "    </tr>\n",
       "  </tbody>\n",
       "</table>\n",
       "<p>8 rows × 32 columns</p>\n",
       "</div>"
      ],
      "text/plain": [
       "       stop_resolution   weapon_type    officer_id  officer_race  \\\n",
       "count     30364.000000  30364.000000  30364.000000  30364.000000   \n",
       "mean          2.174219      3.451060    633.057502      5.885094   \n",
       "std           1.002457      1.001798    256.704876      2.173229   \n",
       "min           0.000000      0.000000      0.000000      0.000000   \n",
       "25%           1.000000      3.000000    472.000000      7.000000   \n",
       "50%           2.000000      3.000000    647.000000      7.000000   \n",
       "75%           3.000000      5.000000    835.000000      7.000000   \n",
       "max           4.000000      5.000000   1094.000000      7.000000   \n",
       "\n",
       "       subject_perceived_race  initial_call_type  final_call_type  \\\n",
       "count            30364.000000       30364.000000     30364.000000   \n",
       "mean                 4.400211          94.143426        69.522691   \n",
       "std                  2.772320          50.121144        35.351272   \n",
       "min                  0.000000           0.000000         0.000000   \n",
       "25%                  1.000000          48.000000        42.000000   \n",
       "50%                  5.000000         116.000000        83.000000   \n",
       "75%                  7.000000         136.000000        94.000000   \n",
       "max                  7.000000         162.000000       198.000000   \n",
       "\n",
       "          call_type      precinct        sector  ...  frisk_flag__Y  \\\n",
       "count  30364.000000  30364.000000  30364.000000  ...   30364.000000   \n",
       "mean       0.839679      2.817646     16.561586  ...       0.258629   \n",
       "std        1.123204      2.353513      9.586147  ...       0.437888   \n",
       "min        0.000000      0.000000      0.000000  ...       0.000000   \n",
       "25%        0.000000      1.000000      7.000000  ...       0.000000   \n",
       "50%        0.000000      2.000000     17.000000  ...       0.000000   \n",
       "75%        2.000000      6.000000     24.000000  ...       1.000000   \n",
       "max        3.000000      6.000000     34.000000  ...       1.000000   \n",
       "\n",
       "        dif_race__Y  dif_gender__Y  repeat_offenders__Y  \\\n",
       "count  30364.000000   30364.000000         30364.000000   \n",
       "mean       0.610789       0.278389             0.280760   \n",
       "std        0.487579       0.448213             0.449378   \n",
       "min        0.000000       0.000000             0.000000   \n",
       "25%        0.000000       0.000000             0.000000   \n",
       "50%        1.000000       0.000000             0.000000   \n",
       "75%        1.000000       1.000000             1.000000   \n",
       "max        1.000000       1.000000             1.000000   \n",
       "\n",
       "       subject_age_group__1_17  subject_age_group__26_35  \\\n",
       "count             30364.000000              30364.000000   \n",
       "mean                  0.048511                  0.334409   \n",
       "std                   0.214848                  0.471791   \n",
       "min                   0.000000                  0.000000   \n",
       "25%                   0.000000                  0.000000   \n",
       "50%                   0.000000                  0.000000   \n",
       "75%                   0.000000                  1.000000   \n",
       "max                   1.000000                  1.000000   \n",
       "\n",
       "       subject_age_group__36_45  subject_age_group__46_55  \\\n",
       "count              30364.000000              30364.000000   \n",
       "mean                   0.209492                  0.126235   \n",
       "std                    0.406952                  0.332120   \n",
       "min                    0.000000                  0.000000   \n",
       "25%                    0.000000                  0.000000   \n",
       "50%                    0.000000                  0.000000   \n",
       "75%                    0.000000                  0.000000   \n",
       "max                    1.000000                  1.000000   \n",
       "\n",
       "       subject_age_group__56_up  subject_age_group__Unknown  \n",
       "count              30364.000000                30364.000000  \n",
       "mean                   0.049499                    0.028619  \n",
       "std                    0.216912                    0.166737  \n",
       "min                    0.000000                    0.000000  \n",
       "25%                    0.000000                    0.000000  \n",
       "50%                    0.000000                    0.000000  \n",
       "75%                    0.000000                    0.000000  \n",
       "max                    1.000000                    1.000000  \n",
       "\n",
       "[8 rows x 32 columns]"
      ]
     },
     "execution_count": 2,
     "metadata": {},
     "output_type": "execute_result"
    }
   ],
   "source": [
    "df = pd.read_csv('CSV_Files/Terry_Stops_with_dummies.csv')\n",
    "df.drop('Unnamed: 0', axis=1, inplace=True)\n",
    "df.describe()"
   ]
  },
  {
   "cell_type": "code",
   "execution_count": 3,
   "metadata": {
    "ExecuteTime": {
     "end_time": "2020-08-21T18:46:12.380833Z",
     "start_time": "2020-08-21T18:46:12.367840Z"
    }
   },
   "outputs": [
    {
     "name": "stdout",
     "output_type": "stream",
     "text": [
      "<class 'pandas.core.frame.DataFrame'>\n",
      "RangeIndex: 30364 entries, 0 to 30363\n",
      "Data columns (total 32 columns):\n",
      "stop_resolution                                  30364 non-null int64\n",
      "weapon_type                                      30364 non-null int64\n",
      "officer_id                                       30364 non-null int64\n",
      "officer_race                                     30364 non-null int64\n",
      "subject_perceived_race                           30364 non-null int64\n",
      "initial_call_type                                30364 non-null int64\n",
      "final_call_type                                  30364 non-null int64\n",
      "call_type                                        30364 non-null int64\n",
      "precinct                                         30364 non-null int64\n",
      "sector                                           30364 non-null int64\n",
      "beat                                             30364 non-null int64\n",
      "incident_year                                    30364 non-null int64\n",
      "incident_month                                   30364 non-null int64\n",
      "officer_age                                      30364 non-null int64\n",
      "12am_6am                                         30364 non-null int64\n",
      "7am_12pm                                         30364 non-null int64\n",
      "1pm_6pm                                          30364 non-null int64\n",
      "7pm_11pm                                         30364 non-null int64\n",
      "officer_gender__M                                30364 non-null int64\n",
      "subject_perceived_gender__M                      30364 non-null int64\n",
      "subject_perceived_gender__Unable to Determine    30364 non-null int64\n",
      "arrest_flag__Y                                   30364 non-null int64\n",
      "frisk_flag__Y                                    30364 non-null int64\n",
      "dif_race__Y                                      30364 non-null int64\n",
      "dif_gender__Y                                    30364 non-null int64\n",
      "repeat_offenders__Y                              30364 non-null int64\n",
      "subject_age_group__1_17                          30364 non-null int64\n",
      "subject_age_group__26_35                         30364 non-null int64\n",
      "subject_age_group__36_45                         30364 non-null int64\n",
      "subject_age_group__46_55                         30364 non-null int64\n",
      "subject_age_group__56_up                         30364 non-null int64\n",
      "subject_age_group__Unknown                       30364 non-null int64\n",
      "dtypes: int64(32)\n",
      "memory usage: 7.4 MB\n"
     ]
    }
   ],
   "source": [
    "df.info()"
   ]
  },
  {
   "cell_type": "markdown",
   "metadata": {},
   "source": [
    "## Change to Floats\n",
    "Ok, first order of business is to turn all of these columns into floats so that we can get more accurate statistical results."
   ]
  },
  {
   "cell_type": "code",
   "execution_count": 4,
   "metadata": {
    "ExecuteTime": {
     "end_time": "2020-08-21T18:46:12.533771Z",
     "start_time": "2020-08-21T18:46:12.381833Z"
    }
   },
   "outputs": [],
   "source": [
    "for col in df.columns:\n",
    "    df[col] = df[col].astype('float')"
   ]
  },
  {
   "cell_type": "code",
   "execution_count": 5,
   "metadata": {
    "ExecuteTime": {
     "end_time": "2020-08-21T18:46:12.603737Z",
     "start_time": "2020-08-21T18:46:12.534745Z"
    }
   },
   "outputs": [
    {
     "name": "stdout",
     "output_type": "stream",
     "text": [
      "<class 'pandas.core.frame.DataFrame'>\n",
      "RangeIndex: 30364 entries, 0 to 30363\n",
      "Data columns (total 32 columns):\n",
      "stop_resolution                                  30364 non-null float64\n",
      "weapon_type                                      30364 non-null float64\n",
      "officer_id                                       30364 non-null float64\n",
      "officer_race                                     30364 non-null float64\n",
      "subject_perceived_race                           30364 non-null float64\n",
      "initial_call_type                                30364 non-null float64\n",
      "final_call_type                                  30364 non-null float64\n",
      "call_type                                        30364 non-null float64\n",
      "precinct                                         30364 non-null float64\n",
      "sector                                           30364 non-null float64\n",
      "beat                                             30364 non-null float64\n",
      "incident_year                                    30364 non-null float64\n",
      "incident_month                                   30364 non-null float64\n",
      "officer_age                                      30364 non-null float64\n",
      "12am_6am                                         30364 non-null float64\n",
      "7am_12pm                                         30364 non-null float64\n",
      "1pm_6pm                                          30364 non-null float64\n",
      "7pm_11pm                                         30364 non-null float64\n",
      "officer_gender__M                                30364 non-null float64\n",
      "subject_perceived_gender__M                      30364 non-null float64\n",
      "subject_perceived_gender__Unable to Determine    30364 non-null float64\n",
      "arrest_flag__Y                                   30364 non-null float64\n",
      "frisk_flag__Y                                    30364 non-null float64\n",
      "dif_race__Y                                      30364 non-null float64\n",
      "dif_gender__Y                                    30364 non-null float64\n",
      "repeat_offenders__Y                              30364 non-null float64\n",
      "subject_age_group__1_17                          30364 non-null float64\n",
      "subject_age_group__26_35                         30364 non-null float64\n",
      "subject_age_group__36_45                         30364 non-null float64\n",
      "subject_age_group__46_55                         30364 non-null float64\n",
      "subject_age_group__56_up                         30364 non-null float64\n",
      "subject_age_group__Unknown                       30364 non-null float64\n",
      "dtypes: float64(32)\n",
      "memory usage: 7.4 MB\n"
     ]
    }
   ],
   "source": [
    "df.info()"
   ]
  },
  {
   "cell_type": "markdown",
   "metadata": {},
   "source": [
    "Nice! Time to split up our data into targets and variables."
   ]
  },
  {
   "cell_type": "code",
   "execution_count": 6,
   "metadata": {
    "ExecuteTime": {
     "end_time": "2020-08-21T18:46:12.674178Z",
     "start_time": "2020-08-21T18:46:12.604737Z"
    }
   },
   "outputs": [],
   "source": [
    "y = df['arrest_flag__Y']\n",
    "X = df.drop('arrest_flag__Y', axis=1)"
   ]
  },
  {
   "cell_type": "code",
   "execution_count": 7,
   "metadata": {
    "ExecuteTime": {
     "end_time": "2020-08-21T18:46:12.772690Z",
     "start_time": "2020-08-21T18:46:12.676166Z"
    }
   },
   "outputs": [],
   "source": [
    "# Train-Test Split\n",
    "X_train, X_test, y_train, y_test = train_test_split(X, y, test_size=0.3, \n",
    "                                                    random_state=42)"
   ]
  },
  {
   "cell_type": "markdown",
   "metadata": {},
   "source": [
    "Next, we'll normalize the data so that the label encoded data isn't weighted as more important."
   ]
  },
  {
   "cell_type": "code",
   "execution_count": 8,
   "metadata": {
    "ExecuteTime": {
     "end_time": "2020-08-21T18:46:12.894447Z",
     "start_time": "2020-08-21T18:46:12.774675Z"
    }
   },
   "outputs": [],
   "source": [
    "scaler = StandardScaler()\n",
    "\n",
    "X_train_scaled = scaler.fit_transform(X_train)\n",
    "X_test_scaled = scaler.transform(X_test)"
   ]
  },
  {
   "cell_type": "markdown",
   "metadata": {},
   "source": [
    "With that out of the way, lets start modeling!"
   ]
  },
  {
   "cell_type": "markdown",
   "metadata": {},
   "source": [
    "# Logistic Regression\n",
    "We'll start with a basic Logistic Regression"
   ]
  },
  {
   "cell_type": "code",
   "execution_count": 9,
   "metadata": {
    "ExecuteTime": {
     "end_time": "2020-08-21T18:46:13.034349Z",
     "start_time": "2020-08-21T18:46:12.895430Z"
    }
   },
   "outputs": [
    {
     "data": {
      "text/plain": [
       "LogisticRegression(C=1e+16, fit_intercept=False)"
      ]
     },
     "execution_count": 9,
     "metadata": {},
     "output_type": "execute_result"
    }
   ],
   "source": [
    "logreg = LogisticRegression(fit_intercept=False, C=1e16)\n",
    "\n",
    "# Fitting the model\n",
    "\n",
    "logreg.fit(X_train_scaled, y_train)"
   ]
  },
  {
   "cell_type": "markdown",
   "metadata": {},
   "source": [
    "## Predictions\n",
    "We'll make a function that will evaluate the predictions."
   ]
  },
  {
   "cell_type": "code",
   "execution_count": 17,
   "metadata": {
    "ExecuteTime": {
     "end_time": "2020-08-21T18:50:42.646457Z",
     "start_time": "2020-08-21T18:50:42.640460Z"
    }
   },
   "outputs": [],
   "source": [
    "def logistic_predictions(X_train, X_test, y_train, y_test):\n",
    "    \"\"\"\n",
    "    Input: Training and test sets of predictors \n",
    "    Output: The accuracy_score of each respective set. Percent correct(labeled \n",
    "    0.0) and percent incorrect(labeled as 1.0). \n",
    "    \"\"\"\n",
    "    \n",
    "    y_hat_train = logreg.predict(X_train)\n",
    "    y_hat_test = logreg.predict(X_test)\n",
    "    \n",
    "    train_residuals = np.abs(y_train - y_hat_train)\n",
    "    print('Training Values',pd.Series(train_residuals).value_counts())\n",
    "    print('------------------------------------')\n",
    "    print('Training Accuracy',\n",
    "          pd.Series(train_residuals).value_counts(normalize=True))\n",
    "    \n",
    "    test_residuals = np.abs(y_test - y_hat_test)\n",
    "    print('Testing Values: ',pd.Series(test_residuals).value_counts())\n",
    "    print('------------------------------------')\n",
    "    print('Testing Accuracy: ',\n",
    "          pd.Series(test_residuals).value_counts(normalize=True))"
   ]
  },
  {
   "cell_type": "code",
   "execution_count": 18,
   "metadata": {
    "ExecuteTime": {
     "end_time": "2020-08-21T18:50:43.452994Z",
     "start_time": "2020-08-21T18:50:43.433005Z"
    }
   },
   "outputs": [
    {
     "name": "stdout",
     "output_type": "stream",
     "text": [
      "Training Values 0.0    14020\n",
      "1.0     7234\n",
      "Name: arrest_flag__Y, dtype: int64\n",
      "------------------------------------\n",
      "Training Accuracy 0.0    0.659641\n",
      "1.0    0.340359\n",
      "Name: arrest_flag__Y, dtype: float64\n",
      "Testing Values:  0.0    5917\n",
      "1.0    3193\n",
      "Name: arrest_flag__Y, dtype: int64\n",
      "------------------------------------\n",
      "Testing Accuracy:  0.0    0.649506\n",
      "1.0    0.350494\n",
      "Name: arrest_flag__Y, dtype: float64\n"
     ]
    }
   ],
   "source": [
    "logistic_predictions(X_train_scaled, X_test_scaled, y_train, y_test)"
   ]
  },
  {
   "cell_type": "markdown",
   "metadata": {},
   "source": [
    "### Interpretation\n",
    "Results show that both the Training and Test sets are a little bit better than a coin flip, which is nothing to get excited over.  On the bright side, however, the accuracy between the two models is consistent (65-66%) so the model is not overfit or underfit, which is great!"
   ]
  },
  {
   "cell_type": "markdown",
   "metadata": {},
   "source": [
    "## Confusion Matrix\n",
    "We'll plot a Confusion Matrix to see the results"
   ]
  },
  {
   "cell_type": "code",
   "execution_count": 12,
   "metadata": {
    "ExecuteTime": {
     "end_time": "2020-08-21T18:46:13.715060Z",
     "start_time": "2020-08-21T18:46:13.446214Z"
    }
   },
   "outputs": [
    {
     "data": {
      "image/png": "[encoded data removed]",
      "text/plain": [
       "<Figure size 432x288 with 2 Axes>"
      ]
     },
     "metadata": {
      "needs_background": "light"
     },
     "output_type": "display_data"
    }
   ],
   "source": [
    "from sklearn.metrics import plot_confusion_matrix\n",
    "\n",
    "plot_confusion_matrix(logreg, X_test_scaled, y_test, cmap=plt.cm.Blues)\n",
    "\n",
    "plt.show()"
   ]
  },
  {
   "cell_type": "markdown",
   "metadata": {
    "ExecuteTime": {
     "end_time": "2020-08-21T18:44:13.654221Z",
     "start_time": "2020-08-21T18:44:13.641214Z"
    }
   },
   "source": [
    "When you use the output of our previous function to validate this, you'll see that the Positive = 0.0 and Negative = 1.0.  With that in mind our Confusion Matrix tells us the following:\n",
    "* True Positives = 5241\n",
    "* True Negatives = 676\n",
    "* False Positives = 1\n",
    "* False Negatives = 3192\n",
    "\n",
    "The extremely high number of False Negatives is quite alarming.  It shows that there is definitely class imbalance in the dataset."
   ]
  },
  {
   "cell_type": "markdown",
   "metadata": {},
   "source": [
    "## Evaluation Metrics"
   ]
  },
  {
   "cell_type": "code",
   "execution_count": 19,
   "metadata": {
    "ExecuteTime": {
     "end_time": "2020-08-21T19:02:14.997362Z",
     "start_time": "2020-08-21T19:02:14.990367Z"
    }
   },
   "outputs": [],
   "source": [
    "y_hat_train = logreg.predict(X_train_scaled)\n",
    "y_hat_test = logreg.predict(X_test_scaled)"
   ]
  },
  {
   "cell_type": "code",
   "execution_count": 20,
   "metadata": {
    "ExecuteTime": {
     "end_time": "2020-08-21T19:03:02.558619Z",
     "start_time": "2020-08-21T19:03:02.536619Z"
    }
   },
   "outputs": [
    {
     "name": "stdout",
     "output_type": "stream",
     "text": [
      "Precision Score: 0.17476732161323683\n",
      "Recall Score: 0.9985228951255539\n",
      "Accuracy Score: 0.6495060373216246\n",
      "F1 Score: 0.29746974697469747\n"
     ]
    }
   ],
   "source": [
    "def print_metrics(y_test, y_hat_test):\n",
    "    print(\"Precision Score: {}\".format(precision_score(y_test, y_hat_test)))\n",
    "    print(\"Recall Score: {}\".format(recall_score(y_test, y_hat_test)))\n",
    "    print(\"Accuracy Score: {}\".format(accuracy_score(y_test, y_hat_test)))\n",
    "    print(\"F1 Score: {}\".format(f1_score(y_test, y_hat_test)))\n",
    "    \n",
    "print_metrics(y_test, y_hat_test)"
   ]
  },
  {
   "cell_type": "markdown",
   "metadata": {},
   "source": [
    "Ok, here is our problem! Our model is EXTREMELY under fit! Let's check out the class imbalance"
   ]
  },
  {
   "cell_type": "code",
   "execution_count": 21,
   "metadata": {
    "ExecuteTime": {
     "end_time": "2020-08-21T19:26:22.030687Z",
     "start_time": "2020-08-21T19:26:22.023691Z"
    }
   },
   "outputs": [
    {
     "data": {
      "text/plain": [
       "0.0    28163\n",
       "1.0     2201\n",
       "Name: arrest_flag__Y, dtype: int64"
      ]
     },
     "execution_count": 21,
     "metadata": {},
     "output_type": "execute_result"
    }
   ],
   "source": [
    "y.value_counts()"
   ]
  },
  {
   "cell_type": "markdown",
   "metadata": {},
   "source": [
    "There's our culprit! For every 1 arrest, there are 14 non-arrests! Lets set up some functions to help us plot out the ROC Curve and measure the AUC so we can measure the changes in our model."
   ]
  },
  {
   "cell_type": "code",
   "execution_count": 27,
   "metadata": {
    "ExecuteTime": {
     "end_time": "2020-08-21T19:59:33.092534Z",
     "start_time": "2020-08-21T19:59:33.085531Z"
    }
   },
   "outputs": [],
   "source": [
    "def plot_roc(X_test, y_test):\n",
    "    \"\"\"\n",
    "    Input the X_test set, the y_test set\n",
    "    \n",
    "    The function calculates the y_score, fpr, tpr, and thresholds.\n",
    "    \n",
    "    Outputs the Area Under the Curve and a plot of the ROC Curve\n",
    "    \"\"\"\n",
    "    # y_score \n",
    "    y_score = logreg.decision_function(X_test)\n",
    "    # False positive rate and true positive rate\n",
    "    fpr, tpr, thresholds = roc_curve(y_test, y_score)\n",
    "    \n",
    "    print(f'AUC: {auc(fpr, tpr)}')\n",
    "    \n",
    "    plt.figure(figsize=(13, 8))\n",
    "    lw = 2\n",
    "    plt.plot(fpr, tpr, color='darkorange',\n",
    "         lw=lw, label='ROC curve')\n",
    "    plt.plot([0, 1], [0, 1], color='navy', lw=lw, linestyle='--')\n",
    "    plt.xlim([0.0, 1.0])\n",
    "    plt.ylim([0.0, 1.05])\n",
    "    plt.yticks([i/20.0 for i in range(21)])\n",
    "    plt.xticks([i/20.0 for i in range(21)])\n",
    "    plt.xlabel('False Positive Rate')\n",
    "    plt.ylabel('True Positive Rate')\n",
    "    plt.title('Receiver operating characteristic (ROC) Curve')\n",
    "    plt.legend(loc='lower right')\n",
    "    plt.show()\n",
    "        "
   ]
  },
  {
   "cell_type": "code",
   "execution_count": 28,
   "metadata": {
    "ExecuteTime": {
     "end_time": "2020-08-21T19:59:34.706522Z",
     "start_time": "2020-08-21T19:59:34.430667Z"
    }
   },
   "outputs": [
    {
     "name": "stdout",
     "output_type": "stream",
     "text": [
      "AUC: 0.9983799664432881\n"
     ]
    },
    {
     "data": {
      "image/png": "[encoded data removed]",
      "text/plain": [
       "<Figure size 936x576 with 1 Axes>"
      ]
     },
     "metadata": {},
     "output_type": "display_data"
    }
   ],
   "source": [
    "from sklearn.metrics import roc_curve, auc\n",
    "sns.set_style('darkgrid')\n",
    "\n",
    "plot_roc(X_test_scaled, y_test)\n",
    "\n"
   ]
  },
  {
   "cell_type": "markdown",
   "metadata": {},
   "source": [
    "Ok, that's our base model. Time to tune it.\n",
    "\n",
    "Since these represent actual people, I'd rather not use SMOTE unless totally necessary.  Let's first try weights"
   ]
  },
  {
   "cell_type": "markdown",
   "metadata": {},
   "source": [
    "## Addressing Class Imbalance"
   ]
  },
  {
   "cell_type": "markdown",
   "metadata": {},
   "source": [
    "### Changing Weights"
   ]
  },
  {
   "cell_type": "code",
   "execution_count": 37,
   "metadata": {
    "ExecuteTime": {
     "end_time": "2020-08-21T20:35:33.240833Z",
     "start_time": "2020-08-21T20:35:33.228827Z"
    }
   },
   "outputs": [],
   "source": [
    "def weight_tests(weights, names, X_train, X_test, y_train, y_test):\n",
    "    \"\"\"\n",
    "    Input a list of weights and a list of names associated with those weights\n",
    "    as well as the test and train sets for both X and y.\n",
    "    \n",
    "    The algorithm will run each weight, fit a model using the weight \n",
    "    parameters, and print the resulting model.\n",
    "    \n",
    "    Then it will run predictions and calculate the y_score, fpr, tpr, and \n",
    "    thresholds.  \n",
    "    \n",
    "    Next it calculates and prints AUC for each respective name.\n",
    "    \n",
    "    Last, it will plot the resulting ROC Curve.\n",
    "    \"\"\"\n",
    "    colors = sns.color_palette('Set2')\n",
    "    plt.figure(figsize=(13,8))\n",
    "    \n",
    "    for n, weight in enumerate(weights):\n",
    "        # Fit a model\n",
    "        logreg = LogisticRegression(fit_intercept=False, C=1e20, \n",
    "                                    class_weight=weight, solver='lbfgs')\n",
    "        model_log = logreg.fit(X_train, y_train)\n",
    "        print(model_log)\n",
    "\n",
    "        # Predict, calculate y_score, fpr and tpr\n",
    "        y_hat_test = logreg.predict(X_test)\n",
    "\n",
    "        y_score = logreg.fit(X_train, y_train).decision_function(X_test)\n",
    "        \n",
    "        # Metric Evaluation\n",
    "        model_eval = print_metrics(y_test, y_hat_test)\n",
    "        print(f'Metrics = {model_eval}')\n",
    "        \n",
    "        fpr, tpr, thresholds = roc_curve(y_test, y_score)\n",
    "        # calculate and print respective AUC scores\n",
    "        print(f'AUC for {names[n]}: {auc(fpr, tpr)}')\n",
    "        print('-------------------------------------------------------------')\n",
    "        lw = 2\n",
    "        plt.plot(fpr, tpr, color=colors[n],\n",
    "                 lw=lw, label=f'ROC curve {names[n]}')\n",
    "    \n",
    "    plt.plot([0, 1], [0, 1], color='navy', lw=lw, linestyle='--')\n",
    "    plt.xlim([0.0, 1.0])\n",
    "    plt.ylim([0.0, 1.05])\n",
    "    plt.yticks([i/20.0 for i in range(21)])\n",
    "    plt.xticks([i/20.0 for i in range(21)])\n",
    "    plt.xlabel('False Positive Rate')\n",
    "    plt.ylabel('True Positive Rate')\n",
    "    plt.title('Receiver operating characteristic (ROC) Curve')\n",
    "    plt.legend(loc='lower right')\n",
    "    plt.show()"
   ]
  },
  {
   "cell_type": "code",
   "execution_count": 69,
   "metadata": {
    "ExecuteTime": {
     "end_time": "2020-08-21T21:24:28.329063Z",
     "start_time": "2020-08-21T21:24:26.778948Z"
    }
   },
   "outputs": [
    {
     "name": "stdout",
     "output_type": "stream",
     "text": [
      "LogisticRegression(C=1e+20, class_weight={0: 1, 1: 1e+20}, fit_intercept=False)\n",
      "Precision Score: 0.2233586275156714\n",
      "Recall Score: 1.0\n",
      "Accuracy Score: 0.741602634467618\n",
      "F1 Score: 0.36515641855447684\n",
      "Metrics = None\n",
      "AUC for 1e20: 0.9849171705515768\n",
      "-------------------------------------------------------------\n",
      "LogisticRegression(C=1e+20, class_weight={0: 1, 1: 2e+21}, fit_intercept=False)\n",
      "Precision Score: 0.22313777191825973\n",
      "Recall Score: 1.0\n",
      "Accuracy Score: 0.7412733260153678\n",
      "F1 Score: 0.3648612233899219\n",
      "Metrics = None\n",
      "AUC for 20e20: 0.9849126164514067\n",
      "-------------------------------------------------------------\n",
      "LogisticRegression(C=1e+20, class_weight={0: 1, 1: 3e+22}, fit_intercept=False)\n",
      "Precision Score: 0.22313777191825973\n",
      "Recall Score: 1.0\n",
      "Accuracy Score: 0.7412733260153678\n",
      "F1 Score: 0.3648612233899219\n",
      "Metrics = None\n",
      "AUC for 300e20: 0.9849140177129975\n",
      "-------------------------------------------------------------\n",
      "LogisticRegression(C=1e+20, class_weight={0: 1, 1: 4e+23}, fit_intercept=False)\n",
      "Precision Score: 0.22313777191825973\n",
      "Recall Score: 1.0\n",
      "Accuracy Score: 0.7412733260153678\n",
      "F1 Score: 0.3648612233899219\n",
      "Metrics = None\n",
      "AUC for 4000e20: 0.9849103394013216\n",
      "-------------------------------------------------------------\n"
     ]
    },
    {
     "data": {
      "image/png": "[encoded data removed]",
      "text/plain": [
       "<Figure size 936x576 with 1 Axes>"
      ]
     },
     "metadata": {},
     "output_type": "display_data"
    }
   ],
   "source": [
    "weights = [{0:1, 1:1e20}, {0:1, 1:20e20}, \n",
    "           {0:1, 1:300e20}, {0:1, 1:4000e20}]\n",
    "names = ['1e20', '20e20', '300e20', '4000e20']\n",
    "\n",
    "weight_tests(weights, names, X_train_scaled, X_test_scaled, y_train, y_test)"
   ]
  },
  {
   "cell_type": "markdown",
   "metadata": {},
   "source": [
    "Looks like to get this to work, we're going to need some insanely large weights if we want to balance this out.  Let's go ahead and use SMOTE. We'll re-purpose our previous for ease of use."
   ]
  },
  {
   "cell_type": "markdown",
   "metadata": {},
   "source": [
    "### SMOTE"
   ]
  },
  {
   "cell_type": "code",
   "execution_count": 66,
   "metadata": {
    "ExecuteTime": {
     "end_time": "2020-08-21T21:18:39.419705Z",
     "start_time": "2020-08-21T21:18:39.409705Z"
    }
   },
   "outputs": [],
   "source": [
    "def smite(ratios, names, X_train, X_test, y_train, y_test):\n",
    "    \"\"\"\n",
    "    Input a list of ratios and a list of names associated with those weights\n",
    "    as well as the test and train sets for both X and y.\n",
    "    \n",
    "    The algorithm will run each ratio, fit a model using the ratio \n",
    "    parameters, and print the resulting model.\n",
    "    \n",
    "    Then it will run predictions and calculate the y_score, fpr, tpr, and \n",
    "    thresholds.  \n",
    "    \n",
    "    After that, it will print the Precision, Recall, Accuracy, and F1 Score\n",
    "    \n",
    "    Next it calculates and prints AUC for each respective name.\n",
    "    \n",
    "    Last, it will plot the resulting ROC Curve.\n",
    "    \"\"\"\n",
    "    colors = sns.color_palette('Set2')\n",
    "    plt.figure(figsize=(13,8))\n",
    "    \n",
    "    for n, ratio in enumerate(ratios):\n",
    "        # Fit a model\n",
    "        smote = SMOTE(sampling_strategy=ratio)\n",
    "        X_train_resampled, y_train_resampled = smote.fit_sample(X_train, \n",
    "                                                                y_train) \n",
    "        logreg = LogisticRegression(fit_intercept=False, \n",
    "                                    C=1e20, solver ='lbfgs')\n",
    "        model_log = logreg.fit(X_train_resampled, y_train_resampled)\n",
    "        print(model_log)\n",
    "\n",
    "        # Predict, calculate y_score, fpr and tpr\n",
    "        y_hat_test = logreg.predict(X_test)\n",
    "\n",
    "        y_score = logreg.fit(X_train, y_train).decision_function(X_test)\n",
    "        \n",
    "        # Metric Evaluation\n",
    "        model_eval = print_metrics(y_test, y_hat_test)\n",
    "        print(f'Metrics = {model_eval}')\n",
    "        \n",
    "        fpr, tpr, thresholds = roc_curve(y_test, y_score)\n",
    "        # calculate and print respective AUC scores\n",
    "        print(f'AUC for {names[n]}: {auc(fpr, tpr)}')\n",
    "        print('-------------------------------------------------------------')\n",
    "        lw = 2\n",
    "        plt.plot(fpr, tpr, color=colors[n],\n",
    "                 lw=lw, label=f'ROC curve {names[n]}')\n",
    "    \n",
    "    plt.plot([0, 1], [0, 1], color='navy', lw=lw, linestyle='--')\n",
    "    plt.xlim([0.0, 1.0])\n",
    "    plt.ylim([0.0, 1.05])\n",
    "    plt.yticks([i/20.0 for i in range(21)])\n",
    "    plt.xticks([i/20.0 for i in range(21)])\n",
    "    plt.xlabel('False Positive Rate')\n",
    "    plt.ylabel('True Positive Rate')\n",
    "    plt.title('Receiver operating characteristic (ROC) Curve')\n",
    "    plt.legend(loc='lower right')\n",
    "    plt.show()"
   ]
  },
  {
   "cell_type": "code",
   "execution_count": 67,
   "metadata": {
    "ExecuteTime": {
     "end_time": "2020-08-21T21:18:43.016273Z",
     "start_time": "2020-08-21T21:18:40.569663Z"
    }
   },
   "outputs": [
    {
     "name": "stdout",
     "output_type": "stream",
     "text": [
      "LogisticRegression(C=1e+20, fit_intercept=False)\n",
      "Precision Score: 0.17490297542043984\n",
      "Recall Score: 0.9985228951255539\n",
      "Accuracy Score: 0.6498353457738749\n",
      "F1 Score: 0.29766622633201234\n",
      "Metrics = None\n",
      "AUC for 0.1: 0.9983799664432881\n",
      "-------------------------------------------------------------\n",
      "LogisticRegression(C=1e+20, fit_intercept=False)\n",
      "Precision Score: 0.1744516129032258\n",
      "Recall Score: 0.9985228951255539\n",
      "Accuracy Score: 0.6487376509330406\n",
      "F1 Score: 0.29701230228471004\n",
      "Metrics = None\n",
      "AUC for 0.25: 0.9983799664432881\n",
      "-------------------------------------------------------------\n",
      "LogisticRegression(C=1e+20, fit_intercept=False)\n",
      "Precision Score: 0.1748125161623998\n",
      "Recall Score: 0.9985228951255539\n",
      "Accuracy Score: 0.649615806805708\n",
      "F1 Score: 0.2975352112676056\n",
      "Metrics = None\n",
      "AUC for 0.33: 0.9983799664432881\n",
      "-------------------------------------------------------------\n",
      "LogisticRegression(C=1e+20, fit_intercept=False)\n",
      "Precision Score: 0.17503883997928535\n",
      "Recall Score: 0.9985228951255539\n",
      "Accuracy Score: 0.6501646542261251\n",
      "F1 Score: 0.2978629654108835\n",
      "Metrics = None\n",
      "AUC for 0.5: 0.9983799664432881\n",
      "-------------------------------------------------------------\n",
      "LogisticRegression(C=1e+20, fit_intercept=False)\n",
      "Precision Score: 0.1755844155844156\n",
      "Recall Score: 0.9985228951255539\n",
      "Accuracy Score: 0.6514818880351262\n",
      "F1 Score: 0.29865252926883146\n",
      "Metrics = None\n",
      "AUC for 0.7: 0.9983799664432881\n",
      "-------------------------------------------------------------\n",
      "LogisticRegression(C=1e+20, fit_intercept=False)\n",
      "Precision Score: 0.17567567567567569\n",
      "Recall Score: 0.9985228951255539\n",
      "Accuracy Score: 0.651701427003293\n",
      "F1 Score: 0.2987845303867403\n",
      "Metrics = None\n",
      "AUC for even: 0.9983799664432881\n",
      "-------------------------------------------------------------\n"
     ]
    },
    {
     "data": {
      "image/png": "[encoded data removed]",
      "text/plain": [
       "<Figure size 936x576 with 1 Axes>"
      ]
     },
     "metadata": {},
     "output_type": "display_data"
    }
   ],
   "source": [
    "ratios = [0.1, 0.25, 0.33, 0.5, 0.7, 1]\n",
    "names = ['0.1', '0.25', '0.33','0.5','0.7','even']\n",
    "\n",
    "smite(ratios, names, X_train_scaled, X_test_scaled, y_train, y_test)"
   ]
  },
  {
   "cell_type": "markdown",
   "metadata": {},
   "source": [
    "## Conclusion:\n",
    "Although there is a class imbalance problem, Logistic Regression may not be the best method of handling this. Time to move on. "
   ]
  },
  {
   "cell_type": "markdown",
   "metadata": {},
   "source": [
    "# Random Forest\n",
    "Let's start over with a Random Forest."
   ]
  },
  {
   "cell_type": "code",
   "execution_count": 85,
   "metadata": {
    "ExecuteTime": {
     "end_time": "2020-08-21T22:23:20.586192Z",
     "start_time": "2020-08-21T22:23:17.440871Z"
    }
   },
   "outputs": [
    {
     "data": {
      "text/plain": [
       "0.9985228951255539"
      ]
     },
     "execution_count": 85,
     "metadata": {},
     "output_type": "execute_result"
    }
   ],
   "source": [
    "from sklearn.neighbors import KNeighborsClassifier\n",
    "from sklearn.ensemble import RandomForestClassifier\n",
    "from sklearn.pipeline import Pipeline\n",
    "\n",
    "scaled_pipeline = Pipeline([('ss', StandardScaler()),\n",
    "                            ('RF', RandomForestClassifier(random_state=42))])\n",
    "grid = [{'RF__max_depth': [5], \n",
    "         'RF__min_samples_split': [2], \n",
    "         'RF__min_samples_leaf': [1]}]\n",
    "\n",
    "gridsearch = GridSearchCV(estimator=scaled_pipeline, \n",
    "                          param_grid=grid, \n",
    "                          scoring='recall', \n",
    "                          cv=5)\n",
    "gridsearch.fit(X_train, y_train)\n",
    "\n",
    "gridsearch.score(X_test, y_test)"
   ]
  },
  {
   "cell_type": "markdown",
   "metadata": {},
   "source": [
    "Oh, wow... I was not expecting that big of a difference.  Still this is only the Accuracy score. I'd like to see all of the scores since our first model performed so poorly.  Let's also create a new function and find out what the best parameters are."
   ]
  },
  {
   "cell_type": "code",
   "execution_count": 84,
   "metadata": {
    "ExecuteTime": {
     "end_time": "2020-08-21T22:23:00.124552Z",
     "start_time": "2020-08-21T22:23:00.119556Z"
    }
   },
   "outputs": [
    {
     "data": {
      "text/plain": [
       "{'RF__max_depth': 5, 'RF__min_samples_leaf': 1, 'RF__min_samples_split': 2}"
      ]
     },
     "execution_count": 84,
     "metadata": {},
     "output_type": "execute_result"
    }
   ],
   "source": [
    "gridsearch.best_params_"
   ]
  },
  {
   "cell_type": "code",
   "execution_count": 97,
   "metadata": {
    "ExecuteTime": {
     "end_time": "2020-08-21T22:57:20.172049Z",
     "start_time": "2020-08-21T22:57:20.166053Z"
    }
   },
   "outputs": [],
   "source": [
    "def RF_params(max_depth, min_samp_splt, min_samp_leaf):\n",
    "    \n",
    "    scaled_pipeline = Pipeline([('ss', StandardScaler()),\n",
    "                                ('RF', RandomForestClassifier(random_state=42))])\n",
    "    grid = [{'RF__criterion':['gini', 'entropy'],\n",
    "         'RF__max_depth': max_depth, \n",
    "         'RF__min_samples_split': min_samp_splt, \n",
    "         'RF__min_samples_leaf': min_samp_leaf}]\n",
    "    \n",
    "    scores = ['precision', 'recall', 'accuracy', 'f1']\n",
    "    for score in scores:\n",
    "        gridsearch = GridSearchCV(estimator=scaled_pipeline, \n",
    "                                  param_grid=grid, \n",
    "                                  scoring=score, \n",
    "                                  cv=5)\n",
    "        gridsearch.fit(X_train, y_train)\n",
    "        print(f'Training {score}: {gridsearch.score(X_train, y_train)}')\n",
    "        print(f'Test {score}: {gridsearch.score(X_test, y_test)}')\n",
    "    print(gridsearch.best_params_)"
   ]
  },
  {
   "cell_type": "code",
   "execution_count": 98,
   "metadata": {
    "ExecuteTime": {
     "end_time": "2020-08-21T22:59:25.697709Z",
     "start_time": "2020-08-21T22:57:25.958283Z"
    }
   },
   "outputs": [
    {
     "name": "stdout",
     "output_type": "stream",
     "text": [
      "Training precision: 1.0\n",
      "Test precision: 1.0\n",
      "Training recall: 0.9993438320209974\n",
      "Test recall: 0.9985228951255539\n",
      "Training accuracy: 0.9999529500329349\n",
      "Test accuracy: 0.9998902305159165\n",
      "Training f1: 0.9996718083360683\n",
      "Test f1: 0.999260901699926\n",
      "{'RF__criterion': 'gini', 'RF__max_depth': 3, 'RF__min_samples_leaf': 1, 'RF__min_samples_split': 2}\n"
     ]
    }
   ],
   "source": [
    "max_depth = [1, 3, 5]\n",
    "min_samp_splt = [1, 2, 3]\n",
    "min_samp_leaf = [1]\n",
    "\n",
    "RF_params(max_depth, min_samp_splt, min_samp_leaf)"
   ]
  },
  {
   "cell_type": "markdown",
   "metadata": {
    "ExecuteTime": {
     "end_time": "2020-08-21T22:03:50.712637Z",
     "start_time": "2020-08-21T22:03:50.204927Z"
    }
   },
   "source": [
    "Alright, so we've narrowed down the minimum sample leaf and split values. Let's just check for the best Max Depth."
   ]
  },
  {
   "cell_type": "code",
   "execution_count": 99,
   "metadata": {
    "ExecuteTime": {
     "end_time": "2020-08-21T23:02:52.125374Z",
     "start_time": "2020-08-21T23:01:53.525209Z"
    }
   },
   "outputs": [
    {
     "name": "stdout",
     "output_type": "stream",
     "text": [
      "Training precision: 1.0\n",
      "Test precision: 1.0\n",
      "Training recall: 0.9993438320209974\n",
      "Test recall: 0.9985228951255539\n",
      "Training accuracy: 0.9999529500329349\n",
      "Test accuracy: 0.9998902305159165\n",
      "Training f1: 0.9996718083360683\n",
      "Test f1: 0.999260901699926\n",
      "{'RF__criterion': 'gini', 'RF__max_depth': 3, 'RF__min_samples_leaf': 1, 'RF__min_samples_split': 2}\n"
     ]
    }
   ],
   "source": [
    "max_depth = [2, 3, 4]\n",
    "min_samp_splt = [2]\n",
    "min_samp_leaf = [1]\n",
    "\n",
    "RF_params(max_depth, min_samp_splt, min_samp_leaf)"
   ]
  },
  {
   "cell_type": "markdown",
   "metadata": {
    "ExecuteTime": {
     "end_time": "2020-08-21T22:05:06.671434Z",
     "start_time": "2020-08-21T22:05:06.608471Z"
    }
   },
   "source": [
    "With that, we've found our best combination of parameters! Look how tight those numbers are!"
   ]
  },
  {
   "cell_type": "code",
   "execution_count": null,
   "metadata": {},
   "outputs": [],
   "source": []
  }
 ],
 "metadata": {
  "kernelspec": {
   "display_name": "Python 3",
   "language": "python",
   "name": "python3"
  },
  "language_info": {
   "codemirror_mode": {
    "name": "ipython",
    "version": 3
   },
   "file_extension": ".py",
   "mimetype": "text/x-python",
   "name": "python",
   "nbconvert_exporter": "python",
   "pygments_lexer": "ipython3",
   "version": "3.6.9"
  },
  "toc": {
   "base_numbering": 1,
   "nav_menu": {},
   "number_sections": true,
   "sideBar": true,
   "skip_h1_title": false,
   "title_cell": "Table of Contents",
   "title_sidebar": "Contents",
   "toc_cell": false,
   "toc_position": {},
   "toc_section_display": true,
   "toc_window_display": false
  },
  "varInspector": {
   "cols": {
    "lenName": 16,
    "lenType": 16,
    "lenVar": 40
   },
   "kernels_config": {
    "python": {
     "delete_cmd_postfix": "",
     "delete_cmd_prefix": "del ",
     "library": "var_list.py",
     "varRefreshCmd": "print(var_dic_list())"
    },
    "r": {
     "delete_cmd_postfix": ") ",
     "delete_cmd_prefix": "rm(",
     "library": "var_list.r",
     "varRefreshCmd": "cat(var_dic_list()) "
    }
   },
   "types_to_exclude": [
    "module",
    "function",
    "builtin_function_or_method",
    "instance",
    "_Feature"
   ],
   "window_display": false
  }
 },
 "nbformat": 4,
 "nbformat_minor": 2
}
