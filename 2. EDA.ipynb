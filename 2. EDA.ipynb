{
 "cells": [
  {
   "cell_type": "markdown",
   "metadata": {},
   "source": [
    "# Exploratory Data Analysis"
   ]
  },
  {
   "cell_type": "markdown",
   "metadata": {},
   "source": [
    "Let's review our objectives:"
   ]
  },
  {
   "cell_type": "markdown",
   "metadata": {},
   "source": [
    "## Objectives: \n",
    "* Determine the likelihood of an arrest occurring during a Terry Stop\n",
    "* Determine if there is a relationship between Terry Stops and a subject's race\n",
    "* Do the differences in races between the officer and the subject play a role in arrests?\n",
    "* How do Terry Stops in Seattle compare to the circumstances around *Terry v. Ohio*?"
   ]
  },
  {
   "cell_type": "markdown",
   "metadata": {},
   "source": [
    "The first objective will be accomplished via our modeling, but we'll address our other questions here in our data analysis. So let's get started!"
   ]
  },
  {
   "cell_type": "markdown",
   "metadata": {},
   "source": [
    "# Importing Data"
   ]
  },
  {
   "cell_type": "code",
   "execution_count": 1,
   "metadata": {
    "ExecuteTime": {
     "end_time": "2020-08-23T17:12:33.505095Z",
     "start_time": "2020-08-23T17:12:31.714256Z"
    }
   },
   "outputs": [],
   "source": [
    "import pandas as pd\n",
    "import numpy as np\n",
    "import matplotlib.pyplot as plt\n",
    "%matplotlib inline\n",
    "import seaborn as sns"
   ]
  },
  {
   "cell_type": "code",
   "execution_count": 2,
   "metadata": {
    "ExecuteTime": {
     "end_time": "2020-08-23T17:12:33.788228Z",
     "start_time": "2020-08-23T17:12:33.507094Z"
    },
    "scrolled": true
   },
   "outputs": [
    {
     "data": {
      "text/html": [
       "<div>\n",
       "<style scoped>\n",
       "    .dataframe tbody tr th:only-of-type {\n",
       "        vertical-align: middle;\n",
       "    }\n",
       "\n",
       "    .dataframe tbody tr th {\n",
       "        vertical-align: top;\n",
       "    }\n",
       "\n",
       "    .dataframe thead th {\n",
       "        text-align: right;\n",
       "    }\n",
       "</style>\n",
       "<table border=\"1\" class=\"dataframe\">\n",
       "  <thead>\n",
       "    <tr style=\"text-align: right;\">\n",
       "      <th></th>\n",
       "      <th>subject_age_group</th>\n",
       "      <th>subject_id</th>\n",
       "      <th>go_sc_num</th>\n",
       "      <th>terry_stop_id</th>\n",
       "      <th>stop_resolution</th>\n",
       "      <th>weapon_type</th>\n",
       "      <th>officer_id</th>\n",
       "      <th>officer_gender</th>\n",
       "      <th>officer_race</th>\n",
       "      <th>subject_perceived_race</th>\n",
       "      <th>...</th>\n",
       "      <th>incident_year</th>\n",
       "      <th>incident_month</th>\n",
       "      <th>officer_age</th>\n",
       "      <th>dif_race</th>\n",
       "      <th>dif_gender</th>\n",
       "      <th>dif_race_gender</th>\n",
       "      <th>12am_6am</th>\n",
       "      <th>7am_12pm</th>\n",
       "      <th>1pm_6pm</th>\n",
       "      <th>7pm_11pm</th>\n",
       "    </tr>\n",
       "  </thead>\n",
       "  <tbody>\n",
       "    <tr>\n",
       "      <td>0</td>\n",
       "      <td>Unknown</td>\n",
       "      <td>unassigned</td>\n",
       "      <td>20150000110760</td>\n",
       "      <td>33273</td>\n",
       "      <td>Offense Report</td>\n",
       "      <td>None</td>\n",
       "      <td>6355</td>\n",
       "      <td>F</td>\n",
       "      <td>White</td>\n",
       "      <td>White</td>\n",
       "      <td>...</td>\n",
       "      <td>2015</td>\n",
       "      <td>4</td>\n",
       "      <td>45</td>\n",
       "      <td>N</td>\n",
       "      <td>N</td>\n",
       "      <td>Y</td>\n",
       "      <td>0</td>\n",
       "      <td>1</td>\n",
       "      <td>0</td>\n",
       "      <td>0</td>\n",
       "    </tr>\n",
       "    <tr>\n",
       "      <td>1</td>\n",
       "      <td>Unknown</td>\n",
       "      <td>unassigned</td>\n",
       "      <td>20150000110760</td>\n",
       "      <td>33274</td>\n",
       "      <td>Offense Report</td>\n",
       "      <td>None</td>\n",
       "      <td>6355</td>\n",
       "      <td>F</td>\n",
       "      <td>White</td>\n",
       "      <td>White</td>\n",
       "      <td>...</td>\n",
       "      <td>2015</td>\n",
       "      <td>4</td>\n",
       "      <td>45</td>\n",
       "      <td>N</td>\n",
       "      <td>Y</td>\n",
       "      <td>Y</td>\n",
       "      <td>0</td>\n",
       "      <td>1</td>\n",
       "      <td>0</td>\n",
       "      <td>0</td>\n",
       "    </tr>\n",
       "    <tr>\n",
       "      <td>2</td>\n",
       "      <td>Unknown</td>\n",
       "      <td>unassigned</td>\n",
       "      <td>20150000120532</td>\n",
       "      <td>35462</td>\n",
       "      <td>Non-Custodial Arrest</td>\n",
       "      <td>None</td>\n",
       "      <td>7735</td>\n",
       "      <td>M</td>\n",
       "      <td>White</td>\n",
       "      <td>Not Specified</td>\n",
       "      <td>...</td>\n",
       "      <td>2015</td>\n",
       "      <td>4</td>\n",
       "      <td>24</td>\n",
       "      <td>Y</td>\n",
       "      <td>Y</td>\n",
       "      <td>Y</td>\n",
       "      <td>0</td>\n",
       "      <td>0</td>\n",
       "      <td>1</td>\n",
       "      <td>0</td>\n",
       "    </tr>\n",
       "    <tr>\n",
       "      <td>3</td>\n",
       "      <td>Unknown</td>\n",
       "      <td>unassigned</td>\n",
       "      <td>20150000127841</td>\n",
       "      <td>36993</td>\n",
       "      <td>Offense Report</td>\n",
       "      <td>None</td>\n",
       "      <td>7474</td>\n",
       "      <td>F</td>\n",
       "      <td>White</td>\n",
       "      <td>Not Specified</td>\n",
       "      <td>...</td>\n",
       "      <td>2015</td>\n",
       "      <td>4</td>\n",
       "      <td>46</td>\n",
       "      <td>Y</td>\n",
       "      <td>Y</td>\n",
       "      <td>Y</td>\n",
       "      <td>0</td>\n",
       "      <td>0</td>\n",
       "      <td>1</td>\n",
       "      <td>0</td>\n",
       "    </tr>\n",
       "    <tr>\n",
       "      <td>4</td>\n",
       "      <td>Unknown</td>\n",
       "      <td>unassigned</td>\n",
       "      <td>20150000145811</td>\n",
       "      <td>41041</td>\n",
       "      <td>Non-Custodial Arrest</td>\n",
       "      <td>None</td>\n",
       "      <td>4835</td>\n",
       "      <td>M</td>\n",
       "      <td>White</td>\n",
       "      <td>Not Specified</td>\n",
       "      <td>...</td>\n",
       "      <td>2015</td>\n",
       "      <td>5</td>\n",
       "      <td>56</td>\n",
       "      <td>Y</td>\n",
       "      <td>N</td>\n",
       "      <td>Y</td>\n",
       "      <td>0</td>\n",
       "      <td>0</td>\n",
       "      <td>1</td>\n",
       "      <td>0</td>\n",
       "    </tr>\n",
       "  </tbody>\n",
       "</table>\n",
       "<p>5 rows × 30 columns</p>\n",
       "</div>"
      ],
      "text/plain": [
       "  subject_age_group  subject_id       go_sc_num  terry_stop_id  \\\n",
       "0           Unknown  unassigned  20150000110760          33273   \n",
       "1           Unknown  unassigned  20150000110760          33274   \n",
       "2           Unknown  unassigned  20150000120532          35462   \n",
       "3           Unknown  unassigned  20150000127841          36993   \n",
       "4           Unknown  unassigned  20150000145811          41041   \n",
       "\n",
       "        stop_resolution weapon_type  officer_id officer_gender officer_race  \\\n",
       "0        Offense Report        None        6355              F        White   \n",
       "1        Offense Report        None        6355              F        White   \n",
       "2  Non-Custodial Arrest        None        7735              M        White   \n",
       "3        Offense Report        None        7474              F        White   \n",
       "4  Non-Custodial Arrest        None        4835              M        White   \n",
       "\n",
       "  subject_perceived_race  ... incident_year incident_month officer_age  \\\n",
       "0                  White  ...          2015              4          45   \n",
       "1                  White  ...          2015              4          45   \n",
       "2          Not Specified  ...          2015              4          24   \n",
       "3          Not Specified  ...          2015              4          46   \n",
       "4          Not Specified  ...          2015              5          56   \n",
       "\n",
       "  dif_race dif_gender dif_race_gender 12am_6am 7am_12pm 1pm_6pm 7pm_11pm  \n",
       "0        N          N               Y        0        1       0        0  \n",
       "1        N          Y               Y        0        1       0        0  \n",
       "2        Y          Y               Y        0        0       1        0  \n",
       "3        Y          Y               Y        0        0       1        0  \n",
       "4        Y          N               Y        0        0       1        0  \n",
       "\n",
       "[5 rows x 30 columns]"
      ]
     },
     "execution_count": 2,
     "metadata": {},
     "output_type": "execute_result"
    }
   ],
   "source": [
    "df = pd.read_csv('CSV_Files/eda_clean.csv')\n",
    "df = df.drop('Unnamed: 0', axis=1)\n",
    "df.head()"
   ]
  },
  {
   "cell_type": "markdown",
   "metadata": {
    "ExecuteTime": {
     "end_time": "2020-08-20T14:16:28.688367Z",
     "start_time": "2020-08-20T14:16:28.659381Z"
    }
   },
   "source": [
    "# Is a relationship between Terry Stops and a subject's race?\n",
    "\n",
    "This is a little tricky to answer because of the variety of stop resolutions. Let's look into this."
   ]
  },
  {
   "cell_type": "code",
   "execution_count": 3,
   "metadata": {
    "ExecuteTime": {
     "end_time": "2020-08-23T17:12:33.806218Z",
     "start_time": "2020-08-23T17:12:33.790227Z"
    }
   },
   "outputs": [
    {
     "data": {
      "text/plain": [
       "Offense Report              14099\n",
       "Non-Custodial Arrest         7591\n",
       "Field Contact                5787\n",
       "Arrest                       2199\n",
       "Referred for Prosecution      688\n",
       "Name: stop_resolution, dtype: int64"
      ]
     },
     "execution_count": 3,
     "metadata": {},
     "output_type": "execute_result"
    }
   ],
   "source": [
    "df.stop_resolution.value_counts()"
   ]
  },
  {
   "cell_type": "code",
   "execution_count": 4,
   "metadata": {
    "ExecuteTime": {
     "end_time": "2020-08-23T17:12:33.924359Z",
     "start_time": "2020-08-23T17:12:33.808217Z"
    }
   },
   "outputs": [
    {
     "data": {
      "text/html": [
       "<div>\n",
       "<style scoped>\n",
       "    .dataframe tbody tr th:only-of-type {\n",
       "        vertical-align: middle;\n",
       "    }\n",
       "\n",
       "    .dataframe tbody tr th {\n",
       "        vertical-align: top;\n",
       "    }\n",
       "\n",
       "    .dataframe thead th {\n",
       "        text-align: right;\n",
       "    }\n",
       "</style>\n",
       "<table border=\"1\" class=\"dataframe\">\n",
       "  <thead>\n",
       "    <tr style=\"text-align: right;\">\n",
       "      <th></th>\n",
       "      <th>stop_resolution</th>\n",
       "      <th>weapon_type</th>\n",
       "      <th>final_call_type</th>\n",
       "      <th>arrest_flag</th>\n",
       "      <th>frisk_flag</th>\n",
       "    </tr>\n",
       "  </thead>\n",
       "  <tbody>\n",
       "    <tr>\n",
       "      <td>0</td>\n",
       "      <td>Offense Report</td>\n",
       "      <td>None</td>\n",
       "      <td>--DV - ARGUMENTS, DISTURBANCE (NO ARREST)</td>\n",
       "      <td>N</td>\n",
       "      <td>N</td>\n",
       "    </tr>\n",
       "    <tr>\n",
       "      <td>1</td>\n",
       "      <td>Offense Report</td>\n",
       "      <td>None</td>\n",
       "      <td>--DV - ARGUMENTS, DISTURBANCE (NO ARREST)</td>\n",
       "      <td>N</td>\n",
       "      <td>N</td>\n",
       "    </tr>\n",
       "    <tr>\n",
       "      <td>2</td>\n",
       "      <td>Non-Custodial Arrest</td>\n",
       "      <td>None</td>\n",
       "      <td>--THEFT - CAR PROWL</td>\n",
       "      <td>N</td>\n",
       "      <td>Y</td>\n",
       "    </tr>\n",
       "    <tr>\n",
       "      <td>3</td>\n",
       "      <td>Offense Report</td>\n",
       "      <td>None</td>\n",
       "      <td>--DV - ARGUMENTS, DISTURBANCE (NO ARREST)</td>\n",
       "      <td>N</td>\n",
       "      <td>N</td>\n",
       "    </tr>\n",
       "    <tr>\n",
       "      <td>4</td>\n",
       "      <td>Non-Custodial Arrest</td>\n",
       "      <td>None</td>\n",
       "      <td>--SUSPICIOUS CIRCUM. - SUSPICIOUS PERSON</td>\n",
       "      <td>N</td>\n",
       "      <td>N</td>\n",
       "    </tr>\n",
       "    <tr>\n",
       "      <td>...</td>\n",
       "      <td>...</td>\n",
       "      <td>...</td>\n",
       "      <td>...</td>\n",
       "      <td>...</td>\n",
       "      <td>...</td>\n",
       "    </tr>\n",
       "    <tr>\n",
       "      <td>30359</td>\n",
       "      <td>Arrest</td>\n",
       "      <td>Firearm</td>\n",
       "      <td>--ASSAULTS - HARASSMENT, THREATS</td>\n",
       "      <td>Y</td>\n",
       "      <td>Y</td>\n",
       "    </tr>\n",
       "    <tr>\n",
       "      <td>30360</td>\n",
       "      <td>Field Contact</td>\n",
       "      <td>Knife/Stabbing Instrument</td>\n",
       "      <td>--DISTURBANCE - FIGHT</td>\n",
       "      <td>N</td>\n",
       "      <td>Y</td>\n",
       "    </tr>\n",
       "    <tr>\n",
       "      <td>30361</td>\n",
       "      <td>Offense Report</td>\n",
       "      <td>Unknown</td>\n",
       "      <td>--CRISIS COMPLAINT - GENERAL</td>\n",
       "      <td>N</td>\n",
       "      <td>N</td>\n",
       "    </tr>\n",
       "    <tr>\n",
       "      <td>30362</td>\n",
       "      <td>Arrest</td>\n",
       "      <td>Unknown</td>\n",
       "      <td>--ASSAULTS, OTHER</td>\n",
       "      <td>Y</td>\n",
       "      <td>N</td>\n",
       "    </tr>\n",
       "    <tr>\n",
       "      <td>30363</td>\n",
       "      <td>Field Contact</td>\n",
       "      <td>Unknown</td>\n",
       "      <td>--SUSPICIOUS CIRCUM. - SUSPICIOUS VEHICLE</td>\n",
       "      <td>N</td>\n",
       "      <td>N</td>\n",
       "    </tr>\n",
       "  </tbody>\n",
       "</table>\n",
       "<p>30364 rows × 5 columns</p>\n",
       "</div>"
      ],
      "text/plain": [
       "            stop_resolution                weapon_type  \\\n",
       "0            Offense Report                       None   \n",
       "1            Offense Report                       None   \n",
       "2      Non-Custodial Arrest                       None   \n",
       "3            Offense Report                       None   \n",
       "4      Non-Custodial Arrest                       None   \n",
       "...                     ...                        ...   \n",
       "30359                Arrest                    Firearm   \n",
       "30360         Field Contact  Knife/Stabbing Instrument   \n",
       "30361        Offense Report                    Unknown   \n",
       "30362                Arrest                    Unknown   \n",
       "30363         Field Contact                    Unknown   \n",
       "\n",
       "                                 final_call_type arrest_flag frisk_flag  \n",
       "0      --DV - ARGUMENTS, DISTURBANCE (NO ARREST)           N          N  \n",
       "1      --DV - ARGUMENTS, DISTURBANCE (NO ARREST)           N          N  \n",
       "2                            --THEFT - CAR PROWL           N          Y  \n",
       "3      --DV - ARGUMENTS, DISTURBANCE (NO ARREST)           N          N  \n",
       "4       --SUSPICIOUS CIRCUM. - SUSPICIOUS PERSON           N          N  \n",
       "...                                          ...         ...        ...  \n",
       "30359           --ASSAULTS - HARASSMENT, THREATS           Y          Y  \n",
       "30360                      --DISTURBANCE - FIGHT           N          Y  \n",
       "30361               --CRISIS COMPLAINT - GENERAL           N          N  \n",
       "30362                          --ASSAULTS, OTHER           Y          N  \n",
       "30363  --SUSPICIOUS CIRCUM. - SUSPICIOUS VEHICLE           N          N  \n",
       "\n",
       "[30364 rows x 5 columns]"
      ]
     },
     "execution_count": 4,
     "metadata": {},
     "output_type": "execute_result"
    }
   ],
   "source": [
    "stops = df[['stop_resolution','weapon_type', 'final_call_type' ,'arrest_flag', 'frisk_flag']]\n",
    "\n",
    "stops"
   ]
  },
  {
   "cell_type": "code",
   "execution_count": 5,
   "metadata": {
    "ExecuteTime": {
     "end_time": "2020-08-23T17:12:34.047290Z",
     "start_time": "2020-08-23T17:12:33.926358Z"
    },
    "scrolled": true
   },
   "outputs": [
    {
     "data": {
      "text/html": [
       "<div>\n",
       "<style scoped>\n",
       "    .dataframe tbody tr th:only-of-type {\n",
       "        vertical-align: middle;\n",
       "    }\n",
       "\n",
       "    .dataframe tbody tr th {\n",
       "        vertical-align: top;\n",
       "    }\n",
       "\n",
       "    .dataframe thead th {\n",
       "        text-align: right;\n",
       "    }\n",
       "</style>\n",
       "<table border=\"1\" class=\"dataframe\">\n",
       "  <thead>\n",
       "    <tr style=\"text-align: right;\">\n",
       "      <th></th>\n",
       "      <th>stop_resolution</th>\n",
       "      <th>weapon_type</th>\n",
       "      <th>final_call_type</th>\n",
       "      <th>arrest_flag</th>\n",
       "      <th>frisk_flag</th>\n",
       "    </tr>\n",
       "  </thead>\n",
       "  <tbody>\n",
       "    <tr>\n",
       "      <td>13</td>\n",
       "      <td>Referred for Prosecution</td>\n",
       "      <td>None</td>\n",
       "      <td>--TRAFFIC - MV COLLISION INVESTIGATION</td>\n",
       "      <td>N</td>\n",
       "      <td>N</td>\n",
       "    </tr>\n",
       "    <tr>\n",
       "      <td>14</td>\n",
       "      <td>Referred for Prosecution</td>\n",
       "      <td>None</td>\n",
       "      <td>--TRAFFIC - MV COLLISION INVESTIGATION</td>\n",
       "      <td>N</td>\n",
       "      <td>N</td>\n",
       "    </tr>\n",
       "    <tr>\n",
       "      <td>15</td>\n",
       "      <td>Referred for Prosecution</td>\n",
       "      <td>None</td>\n",
       "      <td>--TRAFFIC - MV COLLISION INVESTIGATION</td>\n",
       "      <td>N</td>\n",
       "      <td>N</td>\n",
       "    </tr>\n",
       "    <tr>\n",
       "      <td>268</td>\n",
       "      <td>Referred for Prosecution</td>\n",
       "      <td>None</td>\n",
       "      <td>--PROPERTY DEST (DAMG) - GRAFFITI (INCLUDES GANG)</td>\n",
       "      <td>N</td>\n",
       "      <td>N</td>\n",
       "    </tr>\n",
       "    <tr>\n",
       "      <td>281</td>\n",
       "      <td>Referred for Prosecution</td>\n",
       "      <td>None</td>\n",
       "      <td>--SEX OFFENSES (NON-RAPE) - LEWD CONDUCT</td>\n",
       "      <td>N</td>\n",
       "      <td>N</td>\n",
       "    </tr>\n",
       "    <tr>\n",
       "      <td>...</td>\n",
       "      <td>...</td>\n",
       "      <td>...</td>\n",
       "      <td>...</td>\n",
       "      <td>...</td>\n",
       "      <td>...</td>\n",
       "    </tr>\n",
       "    <tr>\n",
       "      <td>29690</td>\n",
       "      <td>Referred for Prosecution</td>\n",
       "      <td>None</td>\n",
       "      <td>--WEAPON,PERSON WITH - OTHER WEAPON</td>\n",
       "      <td>N</td>\n",
       "      <td>Y</td>\n",
       "    </tr>\n",
       "    <tr>\n",
       "      <td>29691</td>\n",
       "      <td>Referred for Prosecution</td>\n",
       "      <td>None</td>\n",
       "      <td>--PROWLER - TRESPASS</td>\n",
       "      <td>N</td>\n",
       "      <td>N</td>\n",
       "    </tr>\n",
       "    <tr>\n",
       "      <td>29724</td>\n",
       "      <td>Referred for Prosecution</td>\n",
       "      <td>None</td>\n",
       "      <td>--MISCHIEF OR NUISANCE - GENERAL</td>\n",
       "      <td>N</td>\n",
       "      <td>N</td>\n",
       "    </tr>\n",
       "    <tr>\n",
       "      <td>29734</td>\n",
       "      <td>Referred for Prosecution</td>\n",
       "      <td>Knife/Stabbing Instrument</td>\n",
       "      <td>--ASSAULTS - HARASSMENT, THREATS</td>\n",
       "      <td>N</td>\n",
       "      <td>Y</td>\n",
       "    </tr>\n",
       "    <tr>\n",
       "      <td>30002</td>\n",
       "      <td>Referred for Prosecution</td>\n",
       "      <td>Unknown</td>\n",
       "      <td>--CRISIS COMPLAINT - GENERAL</td>\n",
       "      <td>Y</td>\n",
       "      <td>N</td>\n",
       "    </tr>\n",
       "  </tbody>\n",
       "</table>\n",
       "<p>688 rows × 5 columns</p>\n",
       "</div>"
      ],
      "text/plain": [
       "                stop_resolution                weapon_type  \\\n",
       "13     Referred for Prosecution                       None   \n",
       "14     Referred for Prosecution                       None   \n",
       "15     Referred for Prosecution                       None   \n",
       "268    Referred for Prosecution                       None   \n",
       "281    Referred for Prosecution                       None   \n",
       "...                         ...                        ...   \n",
       "29690  Referred for Prosecution                       None   \n",
       "29691  Referred for Prosecution                       None   \n",
       "29724  Referred for Prosecution                       None   \n",
       "29734  Referred for Prosecution  Knife/Stabbing Instrument   \n",
       "30002  Referred for Prosecution                    Unknown   \n",
       "\n",
       "                                         final_call_type arrest_flag  \\\n",
       "13                --TRAFFIC - MV COLLISION INVESTIGATION           N   \n",
       "14                --TRAFFIC - MV COLLISION INVESTIGATION           N   \n",
       "15                --TRAFFIC - MV COLLISION INVESTIGATION           N   \n",
       "268    --PROPERTY DEST (DAMG) - GRAFFITI (INCLUDES GANG)           N   \n",
       "281             --SEX OFFENSES (NON-RAPE) - LEWD CONDUCT           N   \n",
       "...                                                  ...         ...   \n",
       "29690                --WEAPON,PERSON WITH - OTHER WEAPON           N   \n",
       "29691                               --PROWLER - TRESPASS           N   \n",
       "29724                   --MISCHIEF OR NUISANCE - GENERAL           N   \n",
       "29734                   --ASSAULTS - HARASSMENT, THREATS           N   \n",
       "30002                       --CRISIS COMPLAINT - GENERAL           Y   \n",
       "\n",
       "      frisk_flag  \n",
       "13             N  \n",
       "14             N  \n",
       "15             N  \n",
       "268            N  \n",
       "281            N  \n",
       "...          ...  \n",
       "29690          Y  \n",
       "29691          N  \n",
       "29724          N  \n",
       "29734          Y  \n",
       "30002          N  \n",
       "\n",
       "[688 rows x 5 columns]"
      ]
     },
     "execution_count": 5,
     "metadata": {},
     "output_type": "execute_result"
    }
   ],
   "source": [
    "# Let's look at what happens when someone is referred for prosecution\n",
    "referral = stops[stops['stop_resolution'] == 'Referred for Prosecution']\n",
    "referral"
   ]
  },
  {
   "cell_type": "code",
   "execution_count": 6,
   "metadata": {
    "ExecuteTime": {
     "end_time": "2020-08-23T17:12:34.230184Z",
     "start_time": "2020-08-23T17:12:34.050288Z"
    },
    "scrolled": true
   },
   "outputs": [
    {
     "data": {
      "text/html": [
       "<div>\n",
       "<style scoped>\n",
       "    .dataframe tbody tr th:only-of-type {\n",
       "        vertical-align: middle;\n",
       "    }\n",
       "\n",
       "    .dataframe tbody tr th {\n",
       "        vertical-align: top;\n",
       "    }\n",
       "\n",
       "    .dataframe thead th {\n",
       "        text-align: right;\n",
       "    }\n",
       "</style>\n",
       "<table border=\"1\" class=\"dataframe\">\n",
       "  <thead>\n",
       "    <tr style=\"text-align: right;\">\n",
       "      <th></th>\n",
       "      <th>stop_resolution</th>\n",
       "      <th>weapon_type</th>\n",
       "      <th>final_call_type</th>\n",
       "      <th>arrest_flag</th>\n",
       "      <th>frisk_flag</th>\n",
       "    </tr>\n",
       "  </thead>\n",
       "  <tbody>\n",
       "    <tr>\n",
       "      <td>34</td>\n",
       "      <td>Field Contact</td>\n",
       "      <td>None</td>\n",
       "      <td>--THEFT - SHOPLIFT</td>\n",
       "      <td>N</td>\n",
       "      <td>N</td>\n",
       "    </tr>\n",
       "    <tr>\n",
       "      <td>35</td>\n",
       "      <td>Field Contact</td>\n",
       "      <td>None</td>\n",
       "      <td>--KIDNAP - GENERAL</td>\n",
       "      <td>N</td>\n",
       "      <td>Y</td>\n",
       "    </tr>\n",
       "    <tr>\n",
       "      <td>44</td>\n",
       "      <td>Field Contact</td>\n",
       "      <td>None</td>\n",
       "      <td>--SUSPICIOUS CIRCUM. - SUSPICIOUS PERSON</td>\n",
       "      <td>N</td>\n",
       "      <td>N</td>\n",
       "    </tr>\n",
       "    <tr>\n",
       "      <td>45</td>\n",
       "      <td>Field Contact</td>\n",
       "      <td>None</td>\n",
       "      <td>--SUSPICIOUS CIRCUM. - SUSPICIOUS PERSON</td>\n",
       "      <td>N</td>\n",
       "      <td>Y</td>\n",
       "    </tr>\n",
       "    <tr>\n",
       "      <td>46</td>\n",
       "      <td>Field Contact</td>\n",
       "      <td>None</td>\n",
       "      <td>--SUSPICIOUS CIRCUM. - SUSPICIOUS PERSON</td>\n",
       "      <td>N</td>\n",
       "      <td>Y</td>\n",
       "    </tr>\n",
       "    <tr>\n",
       "      <td>...</td>\n",
       "      <td>...</td>\n",
       "      <td>...</td>\n",
       "      <td>...</td>\n",
       "      <td>...</td>\n",
       "      <td>...</td>\n",
       "    </tr>\n",
       "    <tr>\n",
       "      <td>30353</td>\n",
       "      <td>Field Contact</td>\n",
       "      <td>Unknown</td>\n",
       "      <td>--SUSPICIOUS CIRCUM. - SUSPICIOUS VEHICLE</td>\n",
       "      <td>N</td>\n",
       "      <td>N</td>\n",
       "    </tr>\n",
       "    <tr>\n",
       "      <td>30355</td>\n",
       "      <td>Field Contact</td>\n",
       "      <td>Knife/Stabbing Instrument</td>\n",
       "      <td>--DV - DOMESTIC VIOL/ASLT (ARREST MANDATORY)</td>\n",
       "      <td>N</td>\n",
       "      <td>Y</td>\n",
       "    </tr>\n",
       "    <tr>\n",
       "      <td>30358</td>\n",
       "      <td>Field Contact</td>\n",
       "      <td>Unknown</td>\n",
       "      <td>--PROWLER - GENERAL</td>\n",
       "      <td>N</td>\n",
       "      <td>N</td>\n",
       "    </tr>\n",
       "    <tr>\n",
       "      <td>30360</td>\n",
       "      <td>Field Contact</td>\n",
       "      <td>Knife/Stabbing Instrument</td>\n",
       "      <td>--DISTURBANCE - FIGHT</td>\n",
       "      <td>N</td>\n",
       "      <td>Y</td>\n",
       "    </tr>\n",
       "    <tr>\n",
       "      <td>30363</td>\n",
       "      <td>Field Contact</td>\n",
       "      <td>Unknown</td>\n",
       "      <td>--SUSPICIOUS CIRCUM. - SUSPICIOUS VEHICLE</td>\n",
       "      <td>N</td>\n",
       "      <td>N</td>\n",
       "    </tr>\n",
       "  </tbody>\n",
       "</table>\n",
       "<p>5787 rows × 5 columns</p>\n",
       "</div>"
      ],
      "text/plain": [
       "      stop_resolution                weapon_type  \\\n",
       "34      Field Contact                       None   \n",
       "35      Field Contact                       None   \n",
       "44      Field Contact                       None   \n",
       "45      Field Contact                       None   \n",
       "46      Field Contact                       None   \n",
       "...               ...                        ...   \n",
       "30353   Field Contact                    Unknown   \n",
       "30355   Field Contact  Knife/Stabbing Instrument   \n",
       "30358   Field Contact                    Unknown   \n",
       "30360   Field Contact  Knife/Stabbing Instrument   \n",
       "30363   Field Contact                    Unknown   \n",
       "\n",
       "                                    final_call_type arrest_flag frisk_flag  \n",
       "34                               --THEFT - SHOPLIFT           N          N  \n",
       "35                               --KIDNAP - GENERAL           N          Y  \n",
       "44         --SUSPICIOUS CIRCUM. - SUSPICIOUS PERSON           N          N  \n",
       "45         --SUSPICIOUS CIRCUM. - SUSPICIOUS PERSON           N          Y  \n",
       "46         --SUSPICIOUS CIRCUM. - SUSPICIOUS PERSON           N          Y  \n",
       "...                                             ...         ...        ...  \n",
       "30353     --SUSPICIOUS CIRCUM. - SUSPICIOUS VEHICLE           N          N  \n",
       "30355  --DV - DOMESTIC VIOL/ASLT (ARREST MANDATORY)           N          Y  \n",
       "30358                           --PROWLER - GENERAL           N          N  \n",
       "30360                         --DISTURBANCE - FIGHT           N          Y  \n",
       "30363     --SUSPICIOUS CIRCUM. - SUSPICIOUS VEHICLE           N          N  \n",
       "\n",
       "[5787 rows x 5 columns]"
      ]
     },
     "execution_count": 6,
     "metadata": {},
     "output_type": "execute_result"
    }
   ],
   "source": [
    "contacts = stops[stops['stop_resolution'] == 'Field Contact']\n",
    "contacts"
   ]
  },
  {
   "cell_type": "code",
   "execution_count": 7,
   "metadata": {
    "ExecuteTime": {
     "end_time": "2020-08-23T17:12:34.394091Z",
     "start_time": "2020-08-23T17:12:34.233185Z"
    }
   },
   "outputs": [
    {
     "data": {
      "text/plain": [
       "N    5787\n",
       "Name: arrest_flag, dtype: int64"
      ]
     },
     "execution_count": 7,
     "metadata": {},
     "output_type": "execute_result"
    }
   ],
   "source": [
    "# let's see if Field contacts result in arrests\n",
    "contacts.arrest_flag.value_counts()"
   ]
  },
  {
   "cell_type": "markdown",
   "metadata": {},
   "source": [
    "## Types of Stop Resolutions"
   ]
  },
  {
   "cell_type": "markdown",
   "metadata": {},
   "source": [
    "* **Offense Reports** means that an officer (whether through dispatch or being stopped on the street) collects a report from witnesses or from victims about a crime that has taken place.  It can range from an officer collecting reports from people involved in a car accident to collecting suspect information from a murder.\n",
    "\n",
    "* **Non-Custodial Arrest** means that a citation was given\n",
    "\n",
    "* **Field Contacts** can range from anywhere from contacting community or gathering information on the area, and escalate to frisking.\n",
    "\n",
    "* **Arrest**. Thanks to our relabeling in preprocessing, this simply means that a physical arrest too place.\n",
    "\n",
    "* **Referred of Prosecution** appears to be yet another interesting category. While **Field Contacts** can result in frisking, it never **results** in a physical arrest. A **Referral for Prosecution** is a combination between receiving a citation but can also end in a physical arrest.  "
   ]
  },
  {
   "cell_type": "markdown",
   "metadata": {},
   "source": [
    "## Seattle Demographics"
   ]
  },
  {
   "cell_type": "markdown",
   "metadata": {},
   "source": [
    "With this in mind, let's look at Seattle's demographics.\n",
    "\n",
    "According to **seattle.gov**, the estimated **racial** demographic breakdown **between 2014 and 2018** is as follows: \n",
    "\n",
    "Race/ethnicity:\n",
    "* **White** - 64.5% (+/- 0.4 percentage pts.)\n",
    "* **Black or African American** - 6.8% (+/- 0.3 percentage pts.)\n",
    "* **American Indian & Alaska Native** - 0.5% (+/- 0.1 percentage pts.)\n",
    "* **Asian** - 14.9% (+/- 0.4 percentage pts.)\n",
    "* **Native Hawaiian & Other Pacific Islander** - 0.3% (+/- 0.1 percentage pts.)\n",
    "* **Other race** - 0.3% (+/- 0.1 percentage pts.)\n",
    "* **Two or more races** - 6.0% (+/- 0.2 percentage pts.)\n",
    "* **Hispanic or Latino ethnicity (of any race)**: 6.6% (+/- 0.3 percentage pts.)\n",
    "\n",
    "The populations for those years were:\n",
    "* **2014** : 670,925\n",
    "* **2015**: 688,156\n",
    "* **2016**: 710,510\n",
    "* **2017**: 729,601\n",
    "* **2018**: 744,955\n",
    "\n",
    "Let's go ahead and calculate the average of these and we can get our population estimates for each demographics."
   ]
  },
  {
   "cell_type": "code",
   "execution_count": 8,
   "metadata": {
    "ExecuteTime": {
     "end_time": "2020-08-23T17:12:34.506026Z",
     "start_time": "2020-08-23T17:12:34.397089Z"
    }
   },
   "outputs": [
    {
     "data": {
      "text/plain": [
       "708829.0"
      ]
     },
     "execution_count": 8,
     "metadata": {},
     "output_type": "execute_result"
    }
   ],
   "source": [
    "pop2014 = 670925\n",
    "pop2015 = 688156\n",
    "pop2016 = 710510\n",
    "pop2017 = 729601\n",
    "pop2018 = 744955\n",
    "\n",
    "avg_pop = round((pop2014 + pop2015 + pop2016 + pop2017 + pop2018)/5, 0)\n",
    "avg_pop"
   ]
  },
  {
   "cell_type": "markdown",
   "metadata": {},
   "source": [
    "Now we'll calculate the population of each race"
   ]
  },
  {
   "cell_type": "code",
   "execution_count": 9,
   "metadata": {
    "ExecuteTime": {
     "end_time": "2020-08-23T17:12:34.623959Z",
     "start_time": "2020-08-23T17:12:34.508025Z"
    }
   },
   "outputs": [
    {
     "name": "stdout",
     "output_type": "stream",
     "text": [
      "White Population:  457195.0\n",
      "African-American Population:  48200.0\n",
      "Native American Population:  3544.0\n",
      "Asian Population:  105616.0\n",
      "Islander Population:  2126.0\n",
      "Other Population:  42530.0\n",
      "Hispanic Population:  46783.0\n",
      "Multi-Racial Population:  42530.0\n"
     ]
    }
   ],
   "source": [
    "white = 0.645\n",
    "black = 0.068\n",
    "native_amer =  0.005\n",
    "asian = 0.149\n",
    "islander = 0.003\n",
    "other = 0.06\n",
    "hispanic = 0.066\n",
    "multi = 0.06\n",
    "\n",
    "# calculating populations\n",
    "pop_white = round((avg_pop*white), 0)\n",
    "pop_black = round((avg_pop*black), 0)\n",
    "pop_native_amer = round((avg_pop*native_amer), 0)\n",
    "pop_asian = round((avg_pop*asian), 0)\n",
    "pop_islander = round((avg_pop*islander), 0)\n",
    "pop_other = round((avg_pop*other), 0)\n",
    "pop_hispanic = round((avg_pop*hispanic), 0)\n",
    "pop_multi = round((avg_pop*multi), 0)\n",
    "\n",
    "print('White Population: ', pop_white)\n",
    "print('African-American Population: ', pop_black)\n",
    "print('Native American Population: ', pop_native_amer)\n",
    "print('Asian Population: ', pop_asian)\n",
    "print('Islander Population: ', pop_islander)\n",
    "print('Other Population: ', pop_other)\n",
    "print('Hispanic Population: ', pop_hispanic)\n",
    "print('Multi-Racial Population: ', pop_multi)"
   ]
  },
  {
   "cell_type": "markdown",
   "metadata": {},
   "source": [
    "## Demographics of Subjects"
   ]
  },
  {
   "cell_type": "markdown",
   "metadata": {},
   "source": [
    "Before we calculate the ratio for each race that are stopped by the police, let's first check our values for 'subject_race'."
   ]
  },
  {
   "cell_type": "code",
   "execution_count": 10,
   "metadata": {
    "ExecuteTime": {
     "end_time": "2020-08-23T17:12:34.747888Z",
     "start_time": "2020-08-23T17:12:34.625958Z"
    }
   },
   "outputs": [
    {
     "data": {
      "text/plain": [
       "White                        14471\n",
       "Black or African American     9331\n",
       "Not Specified                 2999\n",
       "Hispanic                      1050\n",
       "Asian                          986\n",
       "Native American                899\n",
       "Multi-Racial                   493\n",
       "Other                          135\n",
       "Name: subject_perceived_race, dtype: int64"
      ]
     },
     "execution_count": 10,
     "metadata": {},
     "output_type": "execute_result"
    }
   ],
   "source": [
    "df.subject_perceived_race.value_counts()"
   ]
  },
  {
   "cell_type": "markdown",
   "metadata": {},
   "source": [
    "If you remember, we added Islanders into Other because there were so few cases.  Let's do the same here."
   ]
  },
  {
   "cell_type": "code",
   "execution_count": 11,
   "metadata": {
    "ExecuteTime": {
     "end_time": "2020-08-23T17:12:34.845833Z",
     "start_time": "2020-08-23T17:12:34.752889Z"
    }
   },
   "outputs": [
    {
     "data": {
      "text/plain": [
       "44656.0"
      ]
     },
     "execution_count": 11,
     "metadata": {},
     "output_type": "execute_result"
    }
   ],
   "source": [
    "pop_other = pop_other + pop_islander\n",
    "pop_other"
   ]
  },
  {
   "cell_type": "markdown",
   "metadata": {},
   "source": [
    "Now we'll calculate the proportion of people stopped to their respective population."
   ]
  },
  {
   "cell_type": "code",
   "execution_count": 12,
   "metadata": {
    "ExecuteTime": {
     "end_time": "2020-08-23T17:12:34.972520Z",
     "start_time": "2020-08-23T17:12:34.850830Z"
    }
   },
   "outputs": [
    {
     "data": {
      "text/html": [
       "<div>\n",
       "<style scoped>\n",
       "    .dataframe tbody tr th:only-of-type {\n",
       "        vertical-align: middle;\n",
       "    }\n",
       "\n",
       "    .dataframe tbody tr th {\n",
       "        vertical-align: top;\n",
       "    }\n",
       "\n",
       "    .dataframe thead th {\n",
       "        text-align: right;\n",
       "    }\n",
       "</style>\n",
       "<table border=\"1\" class=\"dataframe\">\n",
       "  <thead>\n",
       "    <tr style=\"text-align: right;\">\n",
       "      <th></th>\n",
       "      <th>White</th>\n",
       "      <th>African-American</th>\n",
       "      <th>Native American</th>\n",
       "      <th>Hispanic</th>\n",
       "      <th>Asian</th>\n",
       "      <th>Multi-Racial</th>\n",
       "      <th>Other</th>\n",
       "    </tr>\n",
       "  </thead>\n",
       "  <tbody>\n",
       "    <tr>\n",
       "      <td>0</td>\n",
       "      <td>0.031652</td>\n",
       "      <td>0.193589</td>\n",
       "      <td>0.253668</td>\n",
       "      <td>0.022444</td>\n",
       "      <td>0.009336</td>\n",
       "      <td>0.011592</td>\n",
       "      <td>0.001278</td>\n",
       "    </tr>\n",
       "  </tbody>\n",
       "</table>\n",
       "</div>"
      ],
      "text/plain": [
       "      White  African-American  Native American  Hispanic     Asian  \\\n",
       "0  0.031652          0.193589         0.253668  0.022444  0.009336   \n",
       "\n",
       "   Multi-Racial     Other  \n",
       "0      0.011592  0.001278  "
      ]
     },
     "execution_count": 12,
     "metadata": {},
     "output_type": "execute_result"
    }
   ],
   "source": [
    "# First we'll enter the values for known race  \n",
    "stop_white = 14471\n",
    "stop_black = 9331\n",
    "stop_native_amer = 899\n",
    "stop_asian = 986\n",
    "stop_other = 135\n",
    "stop_hispanic = 1050 \n",
    "stop_multi = 493\n",
    "\n",
    "# Now for the ratio according to their respective populations\n",
    "\n",
    "ratio_white = stop_white/pop_white\n",
    "ratio_black = stop_black/pop_black\n",
    "ratio_native_amer = stop_native_amer/pop_native_amer\n",
    "ratio_asian = stop_asian/pop_asian\n",
    "ratio_other = stop_other/pop_asian\n",
    "ratio_hispanic = stop_hispanic/pop_hispanic\n",
    "ratio_multi = stop_multi/pop_multi\n",
    "\n",
    "keys = ['White', 'African-American', 'Native American', 'Hispanic','Asian', \n",
    "        'Multi-Racial','Other']\n",
    "vals = [ratio_white, ratio_black, ratio_native_amer, ratio_hispanic, \n",
    "        ratio_asian, ratio_multi, ratio_other]\n",
    "\n",
    "ratio = {}\n",
    "\n",
    "for key in keys:\n",
    "    for val in vals:\n",
    "        ratio[key] = val\n",
    "        vals.remove(val)\n",
    "        break\n",
    "\n",
    "ratio_df = pd.DataFrame(ratio, index=[0])\n",
    "ratio_df "
   ]
  },
  {
   "cell_type": "markdown",
   "metadata": {
    "ExecuteTime": {
     "end_time": "2020-08-20T16:23:23.958363Z",
     "start_time": "2020-08-20T16:23:23.845419Z"
    }
   },
   "source": [
    "Let's check out our **preliminary results**."
   ]
  },
  {
   "cell_type": "code",
   "execution_count": 13,
   "metadata": {
    "ExecuteTime": {
     "end_time": "2020-08-23T17:12:35.124432Z",
     "start_time": "2020-08-23T17:12:34.974518Z"
    }
   },
   "outputs": [],
   "source": [
    "def seaborn_barplot(x=None, y=None, figsize=(13,8), data=None, xlabel=None, \n",
    "                    ylabel=None, title=None):\n",
    "    \"\"\"\n",
    "    Input: Basic parameters for a Seaborn Bar Plot\n",
    "    Output: A basic bar plot\n",
    "    \"\"\"\n",
    "    fig = plt.figure(figsize=figsize)\n",
    "    sns.set_style('darkgrid')\n",
    "\n",
    "    sns.barplot(x=x, y=y, data=data)\n",
    "    plt.xlabel(xlabel, fontsize=18)\n",
    "    plt.ylabel(ylabel, fontsize=18)\n",
    "    plt.xticks(fontsize=12)\n",
    "    plt.yticks(fontsize=12)\n",
    "    plt.title(title,\n",
    "         fontsize=20)"
   ]
  },
  {
   "cell_type": "code",
   "execution_count": 14,
   "metadata": {
    "ExecuteTime": {
     "end_time": "2020-08-23T17:12:35.627145Z",
     "start_time": "2020-08-23T17:12:35.126432Z"
    }
   },
   "outputs": [
    {
     "data": {
      "image/png": "[encoded data removed]",
      "text/plain": [
       "<Figure size 936x576 with 1 Axes>"
      ]
     },
     "metadata": {
      "needs_background": "light"
     },
     "output_type": "display_data"
    }
   ],
   "source": [
    "seaborn_barplot(data=ratio_df, xlabel='Race', \n",
    "                ylabel='Percentage of Respective Population', \n",
    "                title=('Proportion of People Stopped According' + \n",
    "                       ' to Respective Population'))"
   ]
  },
  {
   "cell_type": "markdown",
   "metadata": {},
   "source": [
    "There is definitely a disproportionate amount of people being stopped who are Native American and African American.  However, this **represents EVERYONE** stopped.  This includes **Field Contacts** that could have been recording eye-witness accounts or someone **reporting an offense**.\n",
    "\n",
    "We need to filter out **Offense Reports**.  It won't be perfect since the definition of a **Field Contact** is so vague, but it will at least give us a more accurate picture."
   ]
  },
  {
   "cell_type": "code",
   "execution_count": 15,
   "metadata": {
    "ExecuteTime": {
     "end_time": "2020-08-23T17:12:35.654129Z",
     "start_time": "2020-08-23T17:12:35.629144Z"
    }
   },
   "outputs": [],
   "source": [
    "stop_frisk = df.copy()\n",
    "\n",
    "stop_frisk = stop_frisk[stop_frisk['stop_resolution'] != 'Offense Report']\n",
    "#print('Shape Before: ', stop_frisk.shape)\n",
    "\n",
    "#for i in stop_frisk.index:\n",
    "#    if stop_frisk.stop_resolution.iloc[i] == 'Field Contact':\n",
    "#        if stop_frisk.frisk_flag.iloc[i] == 'N':\n",
    "#            stop_frisk = stop_frisk.drop(index = stop_frisk.index[i], axis=0)\n",
    "#print('Shape After: ', stop_frisk.shape)        "
   ]
  },
  {
   "cell_type": "code",
   "execution_count": 16,
   "metadata": {
    "ExecuteTime": {
     "end_time": "2020-08-23T17:12:35.754072Z",
     "start_time": "2020-08-23T17:12:35.656128Z"
    }
   },
   "outputs": [
    {
     "data": {
      "text/plain": [
       "White                        7606\n",
       "Black or African American    4942\n",
       "Not Specified                1957\n",
       "Asian                         567\n",
       "Native American               494\n",
       "Hispanic                      440\n",
       "Multi-Racial                  191\n",
       "Other                          68\n",
       "Name: subject_perceived_race, dtype: int64"
      ]
     },
     "execution_count": 16,
     "metadata": {},
     "output_type": "execute_result"
    }
   ],
   "source": [
    "stop_frisk.subject_perceived_race.value_counts()"
   ]
  },
  {
   "cell_type": "code",
   "execution_count": 17,
   "metadata": {
    "ExecuteTime": {
     "end_time": "2020-08-23T17:12:35.887997Z",
     "start_time": "2020-08-23T17:12:35.756070Z"
    }
   },
   "outputs": [
    {
     "data": {
      "text/html": [
       "<div>\n",
       "<style scoped>\n",
       "    .dataframe tbody tr th:only-of-type {\n",
       "        vertical-align: middle;\n",
       "    }\n",
       "\n",
       "    .dataframe tbody tr th {\n",
       "        vertical-align: top;\n",
       "    }\n",
       "\n",
       "    .dataframe thead th {\n",
       "        text-align: right;\n",
       "    }\n",
       "</style>\n",
       "<table border=\"1\" class=\"dataframe\">\n",
       "  <thead>\n",
       "    <tr style=\"text-align: right;\">\n",
       "      <th></th>\n",
       "      <th>White</th>\n",
       "      <th>African-American</th>\n",
       "      <th>Native American</th>\n",
       "      <th>Hispanic</th>\n",
       "      <th>Asian</th>\n",
       "      <th>Multi-Racial</th>\n",
       "      <th>Other</th>\n",
       "    </tr>\n",
       "  </thead>\n",
       "  <tbody>\n",
       "    <tr>\n",
       "      <td>0</td>\n",
       "      <td>0.016636</td>\n",
       "      <td>0.102531</td>\n",
       "      <td>0.139391</td>\n",
       "      <td>0.009405</td>\n",
       "      <td>0.005369</td>\n",
       "      <td>0.004491</td>\n",
       "      <td>0.000644</td>\n",
       "    </tr>\n",
       "  </tbody>\n",
       "</table>\n",
       "</div>"
      ],
      "text/plain": [
       "      White  African-American  Native American  Hispanic     Asian  \\\n",
       "0  0.016636          0.102531         0.139391  0.009405  0.005369   \n",
       "\n",
       "   Multi-Racial     Other  \n",
       "0      0.004491  0.000644  "
      ]
     },
     "execution_count": 17,
     "metadata": {},
     "output_type": "execute_result"
    }
   ],
   "source": [
    "# First we'll enter the values for known race  \n",
    "stop_white = 7606\n",
    "stop_black = 4942\n",
    "stop_native_amer = 494\n",
    "stop_asian = 567\n",
    "stop_other = 68\n",
    "stop_hispanic = 440 \n",
    "stop_multi = 191\n",
    "# Now for the ratio according to their respective populations\n",
    "\n",
    "ratio_white = stop_white/pop_white\n",
    "ratio_black = stop_black/pop_black\n",
    "ratio_native_amer = stop_native_amer/pop_native_amer\n",
    "ratio_asian = stop_asian/pop_asian\n",
    "ratio_other = stop_other/pop_asian\n",
    "ratio_hispanic = stop_hispanic/pop_hispanic\n",
    "ratio_multi = stop_multi/pop_multi\n",
    "\n",
    "keys = ['White', 'African-American', 'Native American', 'Hispanic','Asian', \n",
    "        'Multi-Racial','Other']\n",
    "vals = [ratio_white, ratio_black, ratio_native_amer, ratio_hispanic, \n",
    "        ratio_asian, ratio_multi, ratio_other]\n",
    "\n",
    "ratio2 = {}\n",
    "\n",
    "for key in keys:\n",
    "    for val in vals:\n",
    "        ratio2[key] = val\n",
    "        vals.remove(val)\n",
    "        break\n",
    "\n",
    "ratio_df2 = pd.DataFrame(ratio2, index=[0])\n",
    "ratio_df2"
   ]
  },
  {
   "cell_type": "code",
   "execution_count": 18,
   "metadata": {
    "ExecuteTime": {
     "end_time": "2020-08-23T17:12:36.314752Z",
     "start_time": "2020-08-23T17:12:35.889995Z"
    }
   },
   "outputs": [
    {
     "data": {
      "image/png": "[encoded data removed]",
      "text/plain": [
       "<Figure size 936x576 with 1 Axes>"
      ]
     },
     "metadata": {},
     "output_type": "display_data"
    }
   ],
   "source": [
    "seaborn_barplot(data=ratio_df2, xlabel='Race', \n",
    "                ylabel='Percentage of Respective Population', \n",
    "                title=('Proportion of People Stopped According' + \n",
    "                       ' to Respective Population'))"
   ]
  },
  {
   "cell_type": "markdown",
   "metadata": {},
   "source": [
    "It appears that Native Americans are stopped the most with African Americans coming in a close second.  Let's try one more filter.  Even though the resulting dataset will contain less than 3,000 samples, we're going to create a data frame that only has a **final call type** labeled **\"Suspicious\"**. This will hopefully eliminate variables such as responding to a crime scene, etc. and give us a results that are an **approximation** of what officer's (or citizens calling in) consider \"suspicious\". We will still **omit** rows containing **'Report Offense'** so that we aren't including victims of crimes."
   ]
  },
  {
   "cell_type": "code",
   "execution_count": 19,
   "metadata": {
    "ExecuteTime": {
     "end_time": "2020-08-23T17:12:36.359727Z",
     "start_time": "2020-08-23T17:12:36.316750Z"
    }
   },
   "outputs": [
    {
     "name": "stdout",
     "output_type": "stream",
     "text": [
      "<class 'pandas.core.frame.DataFrame'>\n",
      "Int64Index: 4148 entries, 4 to 30363\n",
      "Data columns (total 30 columns):\n",
      "subject_age_group           4148 non-null object\n",
      "subject_id                  4148 non-null object\n",
      "go_sc_num                   4148 non-null int64\n",
      "terry_stop_id               4148 non-null int64\n",
      "stop_resolution             4148 non-null object\n",
      "weapon_type                 4148 non-null object\n",
      "officer_id                  4148 non-null int64\n",
      "officer_gender              4148 non-null object\n",
      "officer_race                4148 non-null object\n",
      "subject_perceived_race      4148 non-null object\n",
      "subject_perceived_gender    4148 non-null object\n",
      "initial_call_type           4148 non-null object\n",
      "final_call_type             4148 non-null object\n",
      "call_type                   4148 non-null object\n",
      "arrest_flag                 4148 non-null object\n",
      "frisk_flag                  4148 non-null object\n",
      "precinct                    4148 non-null object\n",
      "sector                      4148 non-null object\n",
      "beat                        4148 non-null object\n",
      "repeat_offenders            4148 non-null object\n",
      "incident_year               4148 non-null int64\n",
      "incident_month              4148 non-null int64\n",
      "officer_age                 4148 non-null int64\n",
      "dif_race                    4148 non-null object\n",
      "dif_gender                  4148 non-null object\n",
      "dif_race_gender             4148 non-null object\n",
      "12am_6am                    4148 non-null int64\n",
      "7am_12pm                    4148 non-null int64\n",
      "1pm_6pm                     4148 non-null int64\n",
      "7pm_11pm                    4148 non-null int64\n",
      "dtypes: int64(10), object(20)\n",
      "memory usage: 1004.6+ KB\n"
     ]
    }
   ],
   "source": [
    "sus = df[df.final_call_type.str.startswith('--SUSPICIOUS')]\n",
    "sus.info()"
   ]
  },
  {
   "cell_type": "code",
   "execution_count": 20,
   "metadata": {
    "ExecuteTime": {
     "end_time": "2020-08-23T17:12:36.473660Z",
     "start_time": "2020-08-23T17:12:36.361725Z"
    }
   },
   "outputs": [
    {
     "data": {
      "text/html": [
       "<div>\n",
       "<style scoped>\n",
       "    .dataframe tbody tr th:only-of-type {\n",
       "        vertical-align: middle;\n",
       "    }\n",
       "\n",
       "    .dataframe tbody tr th {\n",
       "        vertical-align: top;\n",
       "    }\n",
       "\n",
       "    .dataframe thead th {\n",
       "        text-align: right;\n",
       "    }\n",
       "</style>\n",
       "<table border=\"1\" class=\"dataframe\">\n",
       "  <thead>\n",
       "    <tr style=\"text-align: right;\">\n",
       "      <th></th>\n",
       "      <th>officer_race</th>\n",
       "      <th>subject_perceived_race</th>\n",
       "      <th>stop_resolution</th>\n",
       "      <th>final_call_type</th>\n",
       "      <th>arrest_flag</th>\n",
       "      <th>frisk_flag</th>\n",
       "      <th>dif_race</th>\n",
       "      <th>dif_gender</th>\n",
       "      <th>dif_race_gender</th>\n",
       "    </tr>\n",
       "  </thead>\n",
       "  <tbody>\n",
       "    <tr>\n",
       "      <td>4</td>\n",
       "      <td>White</td>\n",
       "      <td>Not Specified</td>\n",
       "      <td>Non-Custodial Arrest</td>\n",
       "      <td>--SUSPICIOUS CIRCUM. - SUSPICIOUS PERSON</td>\n",
       "      <td>N</td>\n",
       "      <td>N</td>\n",
       "      <td>Y</td>\n",
       "      <td>N</td>\n",
       "      <td>Y</td>\n",
       "    </tr>\n",
       "    <tr>\n",
       "      <td>21</td>\n",
       "      <td>White</td>\n",
       "      <td>White</td>\n",
       "      <td>Offense Report</td>\n",
       "      <td>--SUSPICIOUS CIRCUM. - SUSPICIOUS VEHICLE</td>\n",
       "      <td>N</td>\n",
       "      <td>N</td>\n",
       "      <td>N</td>\n",
       "      <td>N</td>\n",
       "      <td>Y</td>\n",
       "    </tr>\n",
       "    <tr>\n",
       "      <td>22</td>\n",
       "      <td>White</td>\n",
       "      <td>White</td>\n",
       "      <td>Offense Report</td>\n",
       "      <td>--SUSPICIOUS CIRCUM. - SUSPICIOUS VEHICLE</td>\n",
       "      <td>N</td>\n",
       "      <td>N</td>\n",
       "      <td>N</td>\n",
       "      <td>Y</td>\n",
       "      <td>Y</td>\n",
       "    </tr>\n",
       "    <tr>\n",
       "      <td>26</td>\n",
       "      <td>White</td>\n",
       "      <td>White</td>\n",
       "      <td>Offense Report</td>\n",
       "      <td>--SUSPICIOUS CIRCUM. - SUSPICIOUS VEHICLE</td>\n",
       "      <td>N</td>\n",
       "      <td>N</td>\n",
       "      <td>N</td>\n",
       "      <td>N</td>\n",
       "      <td>Y</td>\n",
       "    </tr>\n",
       "    <tr>\n",
       "      <td>33</td>\n",
       "      <td>White</td>\n",
       "      <td>White</td>\n",
       "      <td>Offense Report</td>\n",
       "      <td>--SUSPICIOUS CIRCUM. - SUSPICIOUS PERSON</td>\n",
       "      <td>N</td>\n",
       "      <td>N</td>\n",
       "      <td>N</td>\n",
       "      <td>N</td>\n",
       "      <td>Y</td>\n",
       "    </tr>\n",
       "  </tbody>\n",
       "</table>\n",
       "</div>"
      ],
      "text/plain": [
       "   officer_race subject_perceived_race       stop_resolution  \\\n",
       "4         White          Not Specified  Non-Custodial Arrest   \n",
       "21        White                  White        Offense Report   \n",
       "22        White                  White        Offense Report   \n",
       "26        White                  White        Offense Report   \n",
       "33        White                  White        Offense Report   \n",
       "\n",
       "                              final_call_type arrest_flag frisk_flag dif_race  \\\n",
       "4    --SUSPICIOUS CIRCUM. - SUSPICIOUS PERSON           N          N        Y   \n",
       "21  --SUSPICIOUS CIRCUM. - SUSPICIOUS VEHICLE           N          N        N   \n",
       "22  --SUSPICIOUS CIRCUM. - SUSPICIOUS VEHICLE           N          N        N   \n",
       "26  --SUSPICIOUS CIRCUM. - SUSPICIOUS VEHICLE           N          N        N   \n",
       "33   --SUSPICIOUS CIRCUM. - SUSPICIOUS PERSON           N          N        N   \n",
       "\n",
       "   dif_gender dif_race_gender  \n",
       "4           N               Y  \n",
       "21          N               Y  \n",
       "22          Y               Y  \n",
       "26          N               Y  \n",
       "33          N               Y  "
      ]
     },
     "execution_count": 20,
     "metadata": {},
     "output_type": "execute_result"
    }
   ],
   "source": [
    "demographs = sus[['officer_race', 'subject_perceived_race', 'stop_resolution', \n",
    "           'final_call_type', 'arrest_flag', 'frisk_flag', 'dif_race', \n",
    "           'dif_gender', 'dif_race_gender']]\n",
    "\n",
    "demographs.head()"
   ]
  },
  {
   "cell_type": "code",
   "execution_count": 21,
   "metadata": {
    "ExecuteTime": {
     "end_time": "2020-08-23T17:12:36.634569Z",
     "start_time": "2020-08-23T17:12:36.475660Z"
    }
   },
   "outputs": [],
   "source": [
    "demographs = demographs[demographs['stop_resolution'] != 'Offense Report']"
   ]
  },
  {
   "cell_type": "code",
   "execution_count": 22,
   "metadata": {
    "ExecuteTime": {
     "end_time": "2020-08-23T17:12:36.731513Z",
     "start_time": "2020-08-23T17:12:36.636568Z"
    },
    "scrolled": true
   },
   "outputs": [
    {
     "data": {
      "text/plain": [
       "White                        834\n",
       "Black or African American    411\n",
       "Not Specified                369\n",
       "Asian                         61\n",
       "Native American               41\n",
       "Hispanic                      17\n",
       "Other                          6\n",
       "Multi-Racial                   6\n",
       "Name: subject_perceived_race, dtype: int64"
      ]
     },
     "execution_count": 22,
     "metadata": {},
     "output_type": "execute_result"
    }
   ],
   "source": [
    "demographs.subject_perceived_race.value_counts()"
   ]
  },
  {
   "cell_type": "code",
   "execution_count": 23,
   "metadata": {
    "ExecuteTime": {
     "end_time": "2020-08-23T17:12:36.878428Z",
     "start_time": "2020-08-23T17:12:36.738509Z"
    }
   },
   "outputs": [
    {
     "data": {
      "text/html": [
       "<div>\n",
       "<style scoped>\n",
       "    .dataframe tbody tr th:only-of-type {\n",
       "        vertical-align: middle;\n",
       "    }\n",
       "\n",
       "    .dataframe tbody tr th {\n",
       "        vertical-align: top;\n",
       "    }\n",
       "\n",
       "    .dataframe thead th {\n",
       "        text-align: right;\n",
       "    }\n",
       "</style>\n",
       "<table border=\"1\" class=\"dataframe\">\n",
       "  <thead>\n",
       "    <tr style=\"text-align: right;\">\n",
       "      <th></th>\n",
       "      <th>White</th>\n",
       "      <th>African-American</th>\n",
       "      <th>Native American</th>\n",
       "      <th>Hispanic</th>\n",
       "      <th>Asian</th>\n",
       "      <th>Multi-Racial</th>\n",
       "      <th>Other</th>\n",
       "    </tr>\n",
       "  </thead>\n",
       "  <tbody>\n",
       "    <tr>\n",
       "      <td>0</td>\n",
       "      <td>0.001824</td>\n",
       "      <td>0.008527</td>\n",
       "      <td>0.011569</td>\n",
       "      <td>0.000363</td>\n",
       "      <td>0.000578</td>\n",
       "      <td>0.000141</td>\n",
       "      <td>0.000057</td>\n",
       "    </tr>\n",
       "  </tbody>\n",
       "</table>\n",
       "</div>"
      ],
      "text/plain": [
       "      White  African-American  Native American  Hispanic     Asian  \\\n",
       "0  0.001824          0.008527         0.011569  0.000363  0.000578   \n",
       "\n",
       "   Multi-Racial     Other  \n",
       "0      0.000141  0.000057  "
      ]
     },
     "execution_count": 23,
     "metadata": {},
     "output_type": "execute_result"
    }
   ],
   "source": [
    "# First we'll enter the values for known race  \n",
    "stop_white = 834\n",
    "stop_black = 411\n",
    "stop_native_amer = 41\n",
    "stop_asian = 61\n",
    "stop_other = 6\n",
    "stop_hispanic = 17 \n",
    "stop_multi = 6\n",
    "# Now for the ratio according to their respective populations\n",
    "\n",
    "ratio_white = stop_white/pop_white\n",
    "ratio_black = stop_black/pop_black\n",
    "ratio_native_amer = stop_native_amer/pop_native_amer\n",
    "ratio_asian = stop_asian/pop_asian\n",
    "ratio_other = stop_other/pop_asian\n",
    "ratio_hispanic = stop_hispanic/pop_hispanic\n",
    "ratio_multi = stop_multi/pop_multi\n",
    "\n",
    "keys = ['White', 'African-American', 'Native American', 'Hispanic','Asian', \n",
    "        'Multi-Racial','Other']\n",
    "vals = [ratio_white, ratio_black, ratio_native_amer, ratio_hispanic, \n",
    "        ratio_asian, ratio_multi, ratio_other]\n",
    "\n",
    "ratio3 = {}\n",
    "\n",
    "for key in keys:\n",
    "    for val in vals:\n",
    "        ratio3[key] = val\n",
    "        vals.remove(val)\n",
    "        break\n",
    "\n",
    "ratio_df3 = pd.DataFrame(ratio3, index=[0])\n",
    "ratio_df3"
   ]
  },
  {
   "cell_type": "code",
   "execution_count": 24,
   "metadata": {
    "ExecuteTime": {
     "end_time": "2020-08-23T17:12:37.311735Z",
     "start_time": "2020-08-23T17:12:36.881427Z"
    }
   },
   "outputs": [
    {
     "data": {
      "image/png": "[encoded data removed]",
      "text/plain": [
       "<Figure size 936x576 with 1 Axes>"
      ]
     },
     "metadata": {},
     "output_type": "display_data"
    }
   ],
   "source": [
    "seaborn_barplot(data=ratio_df3, xlabel='Race', \n",
    "                ylabel='Percentage of Respective Population', \n",
    "                title='Races of People Reported as \"Suspicious\"')"
   ]
  },
  {
   "cell_type": "markdown",
   "metadata": {
    "ExecuteTime": {
     "end_time": "2020-08-20T18:29:32.221785Z",
     "start_time": "2020-08-20T18:29:28.723Z"
    }
   },
   "source": [
    "### Results: \n",
    "In our final analysis, Native Americans are stopped the most with African Americans coming next.  On the surface level, it definitely looks as though racial discrimination plays a factor in who will be subjected to a Terry Stop.  There is still one problem, however, and that is: **Who is perpetuating this discrimination?**  The dataset **does not contain enough information** on whether the Terry Stop was **initiated** by an **officer** on the street, like in *Terry v. Ohio* or if it was **in response to a citizen** who called in reporting a suspicious person. After all, if it is in response to a citizen's complaint, an officer can only go off of a description given by the citizen."
   ]
  },
  {
   "cell_type": "markdown",
   "metadata": {},
   "source": [
    "### Recommendation\n",
    "Update the reporting system to differentiate between officer initiated stops and stops that are in response to civilian reports.  After more data is gathered, we can reassess and develop a plan."
   ]
  },
  {
   "cell_type": "markdown",
   "metadata": {
    "ExecuteTime": {
     "end_time": "2020-08-20T18:29:32.221785Z",
     "start_time": "2020-08-20T18:29:28.725Z"
    }
   },
   "source": [
    "# Does difference in race play a role in arrests?"
   ]
  },
  {
   "cell_type": "markdown",
   "metadata": {},
   "source": [
    "We'll subset our data frame so that it shows a difference in race, whether or not an arrest, occurred, and we'll go one step further and see if a frisking occurred."
   ]
  },
  {
   "cell_type": "code",
   "execution_count": 25,
   "metadata": {
    "ExecuteTime": {
     "end_time": "2020-08-23T17:12:37.327727Z",
     "start_time": "2020-08-23T17:12:37.313734Z"
    }
   },
   "outputs": [
    {
     "data": {
      "text/html": [
       "<div>\n",
       "<style scoped>\n",
       "    .dataframe tbody tr th:only-of-type {\n",
       "        vertical-align: middle;\n",
       "    }\n",
       "\n",
       "    .dataframe tbody tr th {\n",
       "        vertical-align: top;\n",
       "    }\n",
       "\n",
       "    .dataframe thead th {\n",
       "        text-align: right;\n",
       "    }\n",
       "</style>\n",
       "<table border=\"1\" class=\"dataframe\">\n",
       "  <thead>\n",
       "    <tr style=\"text-align: right;\">\n",
       "      <th></th>\n",
       "      <th>arrest_flag</th>\n",
       "      <th>frisk_flag</th>\n",
       "      <th>dif_race</th>\n",
       "    </tr>\n",
       "  </thead>\n",
       "  <tbody>\n",
       "    <tr>\n",
       "      <td>0</td>\n",
       "      <td>N</td>\n",
       "      <td>N</td>\n",
       "      <td>N</td>\n",
       "    </tr>\n",
       "    <tr>\n",
       "      <td>1</td>\n",
       "      <td>N</td>\n",
       "      <td>N</td>\n",
       "      <td>N</td>\n",
       "    </tr>\n",
       "    <tr>\n",
       "      <td>2</td>\n",
       "      <td>N</td>\n",
       "      <td>Y</td>\n",
       "      <td>Y</td>\n",
       "    </tr>\n",
       "    <tr>\n",
       "      <td>3</td>\n",
       "      <td>N</td>\n",
       "      <td>N</td>\n",
       "      <td>Y</td>\n",
       "    </tr>\n",
       "    <tr>\n",
       "      <td>4</td>\n",
       "      <td>N</td>\n",
       "      <td>N</td>\n",
       "      <td>Y</td>\n",
       "    </tr>\n",
       "  </tbody>\n",
       "</table>\n",
       "</div>"
      ],
      "text/plain": [
       "  arrest_flag frisk_flag dif_race\n",
       "0           N          N        N\n",
       "1           N          N        N\n",
       "2           N          Y        Y\n",
       "3           N          N        Y\n",
       "4           N          N        Y"
      ]
     },
     "execution_count": 25,
     "metadata": {},
     "output_type": "execute_result"
    }
   ],
   "source": [
    "treatment = df[['arrest_flag', 'frisk_flag', 'dif_race']]\n",
    "treatment.head()"
   ]
  },
  {
   "cell_type": "markdown",
   "metadata": {},
   "source": [
    "Next, we'll make 2 datasets: One where officer and subject are the same race and another where they are not."
   ]
  },
  {
   "cell_type": "code",
   "execution_count": 26,
   "metadata": {
    "ExecuteTime": {
     "end_time": "2020-08-23T17:12:37.489634Z",
     "start_time": "2020-08-23T17:12:37.329725Z"
    }
   },
   "outputs": [
    {
     "name": "stdout",
     "output_type": "stream",
     "text": [
      "(11818, 3)\n",
      "(18546, 3)\n"
     ]
    }
   ],
   "source": [
    "same = treatment[treatment['dif_race'] == 'N']\n",
    "diff = treatment[treatment['dif_race'] == 'Y']\n",
    "print(same.shape)\n",
    "print(diff.shape)"
   ]
  },
  {
   "cell_type": "markdown",
   "metadata": {
    "ExecuteTime": {
     "end_time": "2020-08-20T19:46:54.805872Z",
     "start_time": "2020-08-20T19:46:50.650Z"
    }
   },
   "source": [
    "Now lets separate our data into categories we can compare: Same Race Arrests and Frisks & Different Race Arrests and Frisks"
   ]
  },
  {
   "cell_type": "code",
   "execution_count": 27,
   "metadata": {
    "ExecuteTime": {
     "end_time": "2020-08-23T17:12:38.984885Z",
     "start_time": "2020-08-23T17:12:37.491634Z"
    }
   },
   "outputs": [
    {
     "name": "stdout",
     "output_type": "stream",
     "text": [
      "Same Race: Arrests = 844, Frisk Searches = 2715\n",
      "Different Race: Arrests = 734, Frisk Searches = 3387\n"
     ]
    }
   ],
   "source": [
    "same_arrest = 0\n",
    "same_frisk = 0\n",
    "for i in range(len(same)):\n",
    "    if same.arrest_flag.iloc[i] == 'Y':\n",
    "        same_arrest += 1\n",
    "    if same.frisk_flag.iloc[i] == 'Y':\n",
    "        same_frisk += 1\n",
    "print(f'Same Race: Arrests = {same_arrest}, Frisk Searches = {same_frisk}')\n",
    "\n",
    "diff_arrest = 0\n",
    "diff_frisk = 0\n",
    "\n",
    "for i in range(len(same)):\n",
    "    if diff.arrest_flag.iloc[i] == 'Y':\n",
    "        diff_arrest += 1\n",
    "    if diff.frisk_flag.iloc[i] == 'Y':\n",
    "        diff_frisk += 1\n",
    "print(f'Different Race: Arrests = {diff_arrest}, Frisk Searches = {diff_frisk}')"
   ]
  },
  {
   "cell_type": "markdown",
   "metadata": {
    "ExecuteTime": {
     "end_time": "2020-08-20T19:46:54.807871Z",
     "start_time": "2020-08-20T19:46:50.655Z"
    }
   },
   "source": [
    "Since these are based on different sized sets, we'll do what we did with races and calculate the ratio of these values to their respective dataset sizes"
   ]
  },
  {
   "cell_type": "code",
   "execution_count": 28,
   "metadata": {
    "ExecuteTime": {
     "end_time": "2020-08-23T17:12:38.992881Z",
     "start_time": "2020-08-23T17:12:38.986884Z"
    }
   },
   "outputs": [],
   "source": [
    "arrest_same_ratio = same_arrest/len(same)\n",
    "frisk_same_ratio = same_frisk/len(same)\n",
    "arrest_diff_ratio = diff_arrest/len(diff)\n",
    "frisk_diff_ratio = diff_frisk/len(diff)"
   ]
  },
  {
   "cell_type": "code",
   "execution_count": 29,
   "metadata": {
    "ExecuteTime": {
     "end_time": "2020-08-23T17:12:39.111813Z",
     "start_time": "2020-08-23T17:12:38.994880Z"
    }
   },
   "outputs": [
    {
     "data": {
      "text/html": [
       "<div>\n",
       "<style scoped>\n",
       "    .dataframe tbody tr th:only-of-type {\n",
       "        vertical-align: middle;\n",
       "    }\n",
       "\n",
       "    .dataframe tbody tr th {\n",
       "        vertical-align: top;\n",
       "    }\n",
       "\n",
       "    .dataframe thead th {\n",
       "        text-align: right;\n",
       "    }\n",
       "</style>\n",
       "<table border=\"1\" class=\"dataframe\">\n",
       "  <thead>\n",
       "    <tr style=\"text-align: right;\">\n",
       "      <th></th>\n",
       "      <th>Same Race: Arrests</th>\n",
       "      <th>Same Race: Frisk Searches</th>\n",
       "    </tr>\n",
       "  </thead>\n",
       "  <tbody>\n",
       "    <tr>\n",
       "      <td>0</td>\n",
       "      <td>0.071416</td>\n",
       "      <td>0.229734</td>\n",
       "    </tr>\n",
       "  </tbody>\n",
       "</table>\n",
       "</div>"
      ],
      "text/plain": [
       "   Same Race: Arrests  Same Race: Frisk Searches\n",
       "0            0.071416                   0.229734"
      ]
     },
     "execution_count": 29,
     "metadata": {},
     "output_type": "execute_result"
    }
   ],
   "source": [
    "keys = ['Same Race: Arrests', 'Same Race: Frisk Searches']\n",
    "vals = [arrest_same_ratio, frisk_same_ratio]\n",
    "\n",
    "same_race = {}\n",
    "\n",
    "for key in keys:\n",
    "    for val in vals:\n",
    "        same_race[key] = val\n",
    "        vals.remove(val)\n",
    "        break\n",
    "\n",
    "same_race_df = pd.DataFrame(same_race, index=[0])\n",
    "same_race_df "
   ]
  },
  {
   "cell_type": "code",
   "execution_count": 30,
   "metadata": {
    "ExecuteTime": {
     "end_time": "2020-08-23T17:12:39.255733Z",
     "start_time": "2020-08-23T17:12:39.113812Z"
    }
   },
   "outputs": [
    {
     "data": {
      "text/html": [
       "<div>\n",
       "<style scoped>\n",
       "    .dataframe tbody tr th:only-of-type {\n",
       "        vertical-align: middle;\n",
       "    }\n",
       "\n",
       "    .dataframe tbody tr th {\n",
       "        vertical-align: top;\n",
       "    }\n",
       "\n",
       "    .dataframe thead th {\n",
       "        text-align: right;\n",
       "    }\n",
       "</style>\n",
       "<table border=\"1\" class=\"dataframe\">\n",
       "  <thead>\n",
       "    <tr style=\"text-align: right;\">\n",
       "      <th></th>\n",
       "      <th>Different Race: Arrests</th>\n",
       "      <th>Different Race: Frisk Searches</th>\n",
       "    </tr>\n",
       "  </thead>\n",
       "  <tbody>\n",
       "    <tr>\n",
       "      <td>0</td>\n",
       "      <td>0.039577</td>\n",
       "      <td>0.182627</td>\n",
       "    </tr>\n",
       "  </tbody>\n",
       "</table>\n",
       "</div>"
      ],
      "text/plain": [
       "   Different Race: Arrests  Different Race: Frisk Searches\n",
       "0                 0.039577                        0.182627"
      ]
     },
     "execution_count": 30,
     "metadata": {},
     "output_type": "execute_result"
    }
   ],
   "source": [
    "keys = ['Different Race: Arrests', 'Different Race: Frisk Searches']\n",
    "vals = [arrest_diff_ratio, frisk_diff_ratio]\n",
    "\n",
    "diff_race = {}\n",
    "\n",
    "for key in keys:\n",
    "    for val in vals:\n",
    "        diff_race[key] = val\n",
    "        vals.remove(val)\n",
    "        break\n",
    "\n",
    "diff_race = pd.DataFrame(diff_race, index=[0])\n",
    "diff_race "
   ]
  },
  {
   "cell_type": "markdown",
   "metadata": {},
   "source": [
    "Let's join these in a single data frame for easy comparison"
   ]
  },
  {
   "cell_type": "code",
   "execution_count": 31,
   "metadata": {
    "ExecuteTime": {
     "end_time": "2020-08-23T17:12:39.362716Z",
     "start_time": "2020-08-23T17:12:39.257730Z"
    }
   },
   "outputs": [],
   "source": [
    "race_rel = pd.concat([same_race_df, diff_race], axis=1)"
   ]
  },
  {
   "cell_type": "code",
   "execution_count": 32,
   "metadata": {
    "ExecuteTime": {
     "end_time": "2020-08-23T17:12:39.743627Z",
     "start_time": "2020-08-23T17:12:39.364711Z"
    }
   },
   "outputs": [
    {
     "data": {
      "image/png": "[encoded data removed]",
      "text/plain": [
       "<Figure size 936x576 with 1 Axes>"
      ]
     },
     "metadata": {},
     "output_type": "display_data"
    }
   ],
   "source": [
    "seaborn_barplot(data=race_rel, xlabel='Result of Stop', \n",
    "                ylabel='Percentage Arrested or Frisk Searched', \n",
    "                title=('Officer & Subject Treatment: '+ \n",
    "                       'Same Race v. Different Race'))\n"
   ]
  },
  {
   "cell_type": "markdown",
   "metadata": {},
   "source": [
    "## Results\n",
    "Well, this is surprising! Seattle officers that are of a different race from the subject are less likely to arrest or frisk them.  There could be a couple of reasons for this.  One is that an officer whose race is different is more hesitant and doesn't want to risk the possibility of their actions being considered racist.  Another explanation is that the officers in Seattle are assigned to beats where the local demographics match their own.  Either way, assuming that these arrests and frisk searches were warranted, it's good to see that the enforcement of the law is roughly equal. "
   ]
  },
  {
   "cell_type": "markdown",
   "metadata": {
    "ExecuteTime": {
     "end_time": "2020-08-20T21:44:20.829022Z",
     "start_time": "2020-08-20T21:44:20.671110Z"
    }
   },
   "source": [
    "### Recommendation:"
   ]
  },
  {
   "cell_type": "markdown",
   "metadata": {},
   "source": [
    "When we add these columns together, roughly **40% of people stopped are frisk searched**, but only around **10% of people are actually arrested**.  This gap is a little alarming and can also hurt public perception of the police considering that these subjects are still **racially disproportionate**.  Our **recommendation is for officers to show more restraint** in performing frisks until they have sufficient evidence based on the their **observations of the subject's behavior**.    "
   ]
  },
  {
   "cell_type": "markdown",
   "metadata": {},
   "source": [
    "# How do Terry Stops in Seattle compare to the circumstances around *Terry v. Ohio*?"
   ]
  },
  {
   "cell_type": "markdown",
   "metadata": {},
   "source": [
    "In the case of *Terry v. Ohio*, Officer McFadden made a judgment call **based on his observations** of the men's behavior and his **experience** in law enforcement.\n",
    "\n",
    "While we can't quantify the experience of the Seattle officers, we CAN get a rough measurement of their judgment.\n",
    "\n",
    "First, we'll do a brief recap of what we discovered in our last recommendation: The number of people frisked versus the number of people arrested."
   ]
  },
  {
   "cell_type": "code",
   "execution_count": 33,
   "metadata": {
    "ExecuteTime": {
     "end_time": "2020-08-23T17:12:39.768638Z",
     "start_time": "2020-08-23T17:12:39.745627Z"
    }
   },
   "outputs": [
    {
     "name": "stdout",
     "output_type": "stream",
     "text": [
      "N    28163\n",
      "Y     2201\n",
      "Name: arrest_flag, dtype: int64\n",
      "N    22511\n",
      "Y     7853\n",
      "Name: frisk_flag, dtype: int64\n"
     ]
    }
   ],
   "source": [
    "arst_frsk = df[['arrest_flag', 'frisk_flag']]\n",
    "print(arst_frsk.arrest_flag.value_counts())\n",
    "print(arst_frsk.frisk_flag.value_counts())\n"
   ]
  },
  {
   "cell_type": "code",
   "execution_count": 34,
   "metadata": {
    "ExecuteTime": {
     "end_time": "2020-08-23T17:12:40.096974Z",
     "start_time": "2020-08-23T17:12:39.770637Z"
    }
   },
   "outputs": [
    {
     "data": {
      "image/png": "[encoded data removed]",
      "text/plain": [
       "<Figure size 936x576 with 1 Axes>"
      ]
     },
     "metadata": {},
     "output_type": "display_data"
    }
   ],
   "source": [
    "arrest_positive = 2201\n",
    "arrest_negative = 28163\n",
    "frisk_positive = 7853\n",
    "frisk_negative = 22511\n",
    "\n",
    "x = ['Arrested', 'Not Arrested', 'Frisked', 'Not Frisked']\n",
    "y = [arrest_positive, arrest_negative, frisk_positive, frisk_negative]\n",
    "\n",
    "seaborn_barplot(x=x, y=y, xlabel='Arrests and Frisks', \n",
    "                ylabel='Number of Individuals Stopped', \n",
    "                title=('Number of People Frisked and/or' + \n",
    "                       ' Arrested during a Terry Stop'))\n"
   ]
  },
  {
   "cell_type": "markdown",
   "metadata": {},
   "source": [
    "## Initial Findings\n",
    "On a surface level, this doesn't look good.  If we were to assume that these stops were made under the same circumstances as *Terry v. Ohio*, we would make the assumption that a majority of people are having their 4th Amendment Rights violated.  As mentioned before, the **gap** between the **number of people frisked** and **number of arrests** is **indicative** of this. We'll address this again in a second.\n",
    "\n",
    "There is a problem though.  This assumes that the circumstances around each of the Seattle stops were (1). **Initiated** by an officer, and (2). a ***judgment call*** made by the officer who found these people suspicious.   \n",
    "\n",
    "As we mentioned at the beginning, Terry Stops in Seattle have multiple outcomes. Let's find out the most common outcome of a Terry Stop. "
   ]
  },
  {
   "cell_type": "markdown",
   "metadata": {},
   "source": [
    "## Most Common Outcome of a Terry Stop\n",
    "\n",
    "For this, we'll compare the values of the multiple **stop resolutions**."
   ]
  },
  {
   "cell_type": "code",
   "execution_count": 35,
   "metadata": {
    "ExecuteTime": {
     "end_time": "2020-08-23T17:12:40.396695Z",
     "start_time": "2020-08-23T17:12:40.099479Z"
    }
   },
   "outputs": [
    {
     "data": {
      "image/png": "[encoded data removed]",
      "text/plain": [
       "<Figure size 936x576 with 1 Axes>"
      ]
     },
     "metadata": {},
     "output_type": "display_data"
    }
   ],
   "source": [
    "x = df['stop_resolution'].value_counts().index\n",
    "y = df.stop_resolution.value_counts()\n",
    "\n",
    "seaborn_barplot(x=x, y=y, xlabel='Stop Resolution', \n",
    "                ylabel='Number of Individuals', \n",
    "                title=('The Results of Terry Stops in Seattle'))"
   ]
  },
  {
   "cell_type": "markdown",
   "metadata": {},
   "source": [
    "A **large majority** of officer interactions with subjects falls under the category of obtaining an **offense report**. Again, activities associated with this are **interviewing witnesses** and **obtaining information from victims** of crimes.  This doesn't resemble the circumstances surrounding *Terry v. Ohio*. \n",
    "\n",
    "Let's drop Offense Reports again and try this one more time. Then we'll calculate the number of people stopped and frisked."
   ]
  },
  {
   "cell_type": "code",
   "execution_count": 36,
   "metadata": {
    "ExecuteTime": {
     "end_time": "2020-08-23T17:12:42.026585Z",
     "start_time": "2020-08-23T17:12:40.398694Z"
    }
   },
   "outputs": [],
   "source": [
    "no_reports = df[df['stop_resolution'] != 'Offense Report']\n",
    "\n",
    "arrests = 0\n",
    "frisks = 0\n",
    "# filter out people who were frisked during an arrest\n",
    "frisked_arrested = 0\n",
    "for i in range(len(no_reports)):\n",
    "    if no_reports.arrest_flag.iloc[i] == 'Y' and no_reports.frisk_flag.iloc[i] == 'N':\n",
    "        arrests += 1\n",
    "    elif no_reports.arrest_flag.iloc[i] == 'N' and no_reports.frisk_flag.iloc[i] == 'Y':\n",
    "        frisks += 1\n",
    "    elif no_reports.arrest_flag.iloc[i] == 'Y' and no_reports.frisk_flag.iloc[i] == 'Y':\n",
    "        frisked_arrested += 1\n",
    "        \n",
    "gap = frisks - frisked_arrested"
   ]
  },
  {
   "cell_type": "code",
   "execution_count": 37,
   "metadata": {
    "ExecuteTime": {
     "end_time": "2020-08-23T17:12:42.032582Z",
     "start_time": "2020-08-23T17:12:42.028584Z"
    }
   },
   "outputs": [
    {
     "name": "stdout",
     "output_type": "stream",
     "text": [
      "Arrests = 1522  Frisk Searches = 3853 Frisked and Arrested = 679 \"The Gap\" = 3174\n"
     ]
    }
   ],
   "source": [
    "print(f'Arrests = {arrests}', f' Frisk Searches = {frisks}', \n",
    "      f'Frisked and Arrested = {frisked_arrested}', f'\"The Gap\" = {gap}')"
   ]
  },
  {
   "cell_type": "markdown",
   "metadata": {},
   "source": [
    "## Relationship of Frisks to Arrests"
   ]
  },
  {
   "cell_type": "code",
   "execution_count": 38,
   "metadata": {
    "ExecuteTime": {
     "end_time": "2020-08-23T17:12:42.398400Z",
     "start_time": "2020-08-23T17:12:42.034582Z"
    }
   },
   "outputs": [
    {
     "data": {
      "image/png": "[encoded data removed]",
      "text/plain": [
       "<Figure size 936x576 with 1 Axes>"
      ]
     },
     "metadata": {},
     "output_type": "display_data"
    }
   ],
   "source": [
    "x = ['Only Arrested', 'Only Frisked', 'Frisked and Arrested', '\"The Gap\"']\n",
    "y = [arrests, frisks, frisked_arrested, gap]\n",
    "\n",
    "seaborn_barplot(x=x, y=y, xlabel='Stop Results', \n",
    "                ylabel='Number of Individuals', \n",
    "                title=('Stop Resolutions Resulting in' + \n",
    "                       ' Frisking, Arrests or Both'))"
   ]
  },
  {
   "cell_type": "markdown",
   "metadata": {},
   "source": [
    "## Results\n",
    "From the above we see that **many more innocent individuals were frisked** than people who were frisked and guilty of an offense.  This is an important distinction since **police are under much more scrutiny** than they were in 1964. If the case of *Terry v. Ohio* were to happen in 2020, and Officer McFadden had a track record of being right 1 out of every 5 times, there is a good chance that the Superior Court's decision would have been much different. \n",
    "\n",
    "As uncomfortable as it might make officers feel, in order to improve public perception, this gap needs to decrease, which again, means using better judgment and restraint in regards to pat-downs. "
   ]
  },
  {
   "cell_type": "markdown",
   "metadata": {},
   "source": [
    "### Recommendation:\n",
    "Education.  **Invite behavioral analysts** and experts in the **field of Criminal Behavioral Science** to come and educate officers.  Doing so will **reduce** the number of people being unnecessarily frisked and will go a long way towards improving public perception.  "
   ]
  },
  {
   "cell_type": "markdown",
   "metadata": {},
   "source": [
    "# Conclusion"
   ]
  },
  {
   "cell_type": "markdown",
   "metadata": {},
   "source": [
    "To summarize our findings and recommendations:\n",
    "* Seattle's **definition of a \"Terry Stop\"** is much **too broad** and barely resembles the circumstances surrounding their origin.  In order to improve public perception, the **data needs to become more precise** in what it is reporting.  This means **making distinctions** between **officer initiated** encounters and those that came as a result of a **citizen's report**.\n",
    "\n",
    "* The treatment of officers towards subjects that are of a different race is slightly better than officers of the same race, but all of the officers could **benefit from a more reserved attitude toward frisking subjects**.\n",
    "\n",
    "* To that end, we encourage **inviting experts in Criminal Behavior Science** to give lectures and **educate your officers** (possibly yearly) so that the number of innocent individuals being frisked is reduced. \n",
    "\n",
    "* Lastly, you may consider **reinstating the \"Freedom Patrols\" of 1965**, where **members of the community join police officers** and observe the officers' activities while working their Beat.  While the details of the citizen's safety will need to be worked out, Freedom Patrols can lead to an **increase in public trust**, a **better understanding** of the people in their jurisdiction, as well as **educate people** about why certain policies are in place. "
   ]
  }
 ],
 "metadata": {
  "kernelspec": {
   "display_name": "Python [conda env:learn-env] *",
   "language": "python",
   "name": "conda-env-learn-env-py"
  },
  "language_info": {
   "codemirror_mode": {
    "name": "ipython",
    "version": 3
   },
   "file_extension": ".py",
   "mimetype": "text/x-python",
   "name": "python",
   "nbconvert_exporter": "python",
   "pygments_lexer": "ipython3",
   "version": "3.6.9"
  },
  "toc": {
   "base_numbering": 1,
   "nav_menu": {},
   "number_sections": true,
   "sideBar": true,
   "skip_h1_title": false,
   "title_cell": "Table of Contents",
   "title_sidebar": "Contents",
   "toc_cell": false,
   "toc_position": {},
   "toc_section_display": true,
   "toc_window_display": true
  },
  "varInspector": {
   "cols": {
    "lenName": 16,
    "lenType": 16,
    "lenVar": 40
   },
   "kernels_config": {
    "python": {
     "delete_cmd_postfix": "",
     "delete_cmd_prefix": "del ",
     "library": "var_list.py",
     "varRefreshCmd": "print(var_dic_list())"
    },
    "r": {
     "delete_cmd_postfix": ") ",
     "delete_cmd_prefix": "rm(",
     "library": "var_list.r",
     "varRefreshCmd": "cat(var_dic_list()) "
    }
   },
   "types_to_exclude": [
    "module",
    "function",
    "builtin_function_or_method",
    "instance",
    "_Feature"
   ],
   "window_display": false
  }
 },
 "nbformat": 4,
 "nbformat_minor": 2
}
